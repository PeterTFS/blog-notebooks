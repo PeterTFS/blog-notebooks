{
 "cells": [
  {
   "cell_type": "markdown",
   "metadata": {},
   "source": [
    "> #### Summary\n",
    "> * Explore ```with``` statements and the context manager protocol\n",
    "> * Implement context manager class to query MongoDB\n",
    "> * Convert ```try...finally``` block to ```with``` block and increase code readability"
   ]
  },
  {
   "cell_type": "markdown",
   "metadata": {},
   "source": [
    "---"
   ]
  },
  {
   "cell_type": "markdown",
   "metadata": {},
   "source": [
    "I recently read Steve McConnell's [Code Complete](https://www.amazon.com/Code-Complete-Practical-Handbook-Construction/dp/0735619670) to level up my software development skill-set. The book has helped me become more deliberate about programming and problem solving in general. Before I sit down to write a single line of code, I take some time to plan out the work I am going to do versus [code by the seat of my pants](http://www.urbandictionary.com/define.php?term=fly%20by%20the%20seat%20of%20your%20pants). Coding without a plan means we will have to [refactor our work](https://en.wikipedia.org/wiki/Code_refactoring) to deal with problems that arise from not thinking our design through. I highly recommend this book to any aspiring code jockey.\n",
    "\n",
    "One of the major themes of Code Complete is to [Program into [our] Language, Not in It](https://www.safaribooksonline.com/library/view/code-complete-second/0735619670/ch34s04.html); Steve defines this as follows:\n",
    "\n",
    "> Don’t limit your programming thinking only to the concepts that are supported automatically by your language. The best programmers think of what they want to do, and then they assess how to accomplish their objectives with the programming tools at their disposal.\n",
    ">\n",
    "> ...\n",
    ">\n",
    "> Programming using the most obvious path amounts to programming in a language rather than programming into a language; it’s the programmer’s equivalent of “If Freddie jumped off a bridge, would you jump off a bridge, too?” Think about your technical goals, and then decide how best to accomplish those goals by programming into your language.\n",
    "\n",
    "Said another way, doing things a certain way in one language doesn't mean that we should follow the same pattern in another language. When I came into Python from C# and JavaScript, I brought all my habits with me. Instead of looking for a [Pythonic solution](http://python-guide-pt-br.readthedocs.io/en/latest/writing/style/), I looked for the Python syntax to do things the way I've always done them.\n",
    "\n",
    "Take [resource management](https://en.wikipedia.org/wiki/Resource_management_%28computing%29) as an example. I used ```try...except...finally``` blocks (```try-catch-finally``` in C# & JavaScript) to ensure that I closed the resource that was being consumed, even if an exception occurred. Although this method works, we are not using the tools and language patterns provided by the [Python standard library](https://docs.python.org/3.6/library/).\n",
    "\n",
    "*Cue [Raymond Hettinger](https://twitter.com/raymondh):* There **MUST** be a better way!\n",
    "\n",
    "And there is! It's something we've all used before and probably never even thought about: [context managers](https://docs.python.org/3.6/library/stdtypes.html#context-manager-types) and the [```with``` statement](https://docs.python.org/3.6/reference/compound_stmts.html#the-with-statement)!\n",
    "\n",
    "In this tutorial, we will explore the ```with``` statement and context manager protocol in a bit more depth before implementing our own context manager to query MongoDB."
   ]
  },
  {
   "cell_type": "markdown",
   "metadata": {},
   "source": [
    "---"
   ]
  },
  {
   "cell_type": "markdown",
   "metadata": {},
   "source": [
    "## What You Need to Follow Along\n",
    "\n",
    "### Development Tools (Stack)\n",
    "\n",
    "* [Python 3](https://www.python.org/downloads/)\n",
    "* [MongoDB](https://docs.mongodb.com/manual/installation/) (local or online instance)\n",
    "* [PyMongo](https://api.mongodb.com/python/current/installation.html)\n",
    "\n",
    "### Code\n",
    "\n",
    "* [Jupyter Notebook on Github](https://github.com/alysivji/codeeveryday-hashtag-dashboard/blob/master/create-tweet-hashtag-dashboard.ipynb)"
   ]
  },
  {
   "cell_type": "markdown",
   "metadata": {},
   "source": [
    "---"
   ]
  },
  {
   "cell_type": "markdown",
   "metadata": {},
   "source": [
    "\n",
    "## ```with``` Statement and Context Manager Protocol\n",
    "\n",
    "The ```with``` statement is a control-flow structure that allows us to encapsulate ```try...except...finally``` blocks for convenient reuse. As a result, we have written cleaner and more readable code ([PEP 343](https://www.python.org/dev/peps/pep-0343/) | [Python Docs](https://docs.python.org/3/reference/compound_stmts.html#with)).\n",
    "\n",
    "The ```with``` statement supports a runtime context which is implemented through a pair of methods executed (1) before the statement body is entered (```__enter__()```) and (2) after the statement body is exited (```__exit__()```) ([Source](https://docs.python.org/3.6/library/stdtypes.html#context-manager-types)).\n",
    "\n",
    "The basic structure looks as follows:\n",
    "```python\n",
    "    with context-expression [as var]:\n",
    "        with_statement_body\n",
    "```\n",
    "\n",
    "The ```context-expression``` requires an object that supports the context manager protocol, i.e. a class containing ```__enter__()``` and ```__exit__()``` methods. We can also point to a [context manager written using generators and the ```contextmanager``` decorator](https://docs.python.org/3/library/contextlib.html#contextlib.contextmanager).\n",
    "\n",
    "[This blog](http://arnavk.com/posts/python-context-managers/) gives a great explanation of the special dunder (double underscore) methods:\n",
    "\n",
    "> * ```__enter__``` should return an object that is assigned to the variable after as. By default it is None, and is optional. A common pattern is to return self and keep the functionality required within the same class.\n",
    "> * ```__exit__``` is called on the original Context Manager object, not the object returned by ```__enter__```.\n",
    ">* If an error is raised in ```__init__``` or ```__enter__``` then the code block is never executed and ```__exit__``` is not called.\n",
    "> * Once the code block is entered, ```__exit__``` is always called, even if an exception is raised in the code block.\n",
    "> * If ```__exit__``` returns ```True```, the exception is suppressed.\n",
    "and __exit__\n",
    "\n",
    "Inside of our class, we can implement the ```__init__()``` method to set up our object as the statements do not need to be repeated for each instance. For a database context manager, we can set up our connection inside ```__init__()``` and return an object or cursor from the ```__enter__()``` method.\n",
    "\n",
    "The variable that comes after the ```as``` keyword is optional, but it should be included and used to refer to the object returned from ```__enter__()``` inside our ```with_statement_body```.\n",
    "\n",
    "I think that's more than enough theory. Let's head into the REPL:"
   ]
  },
  {
   "cell_type": "code",
   "execution_count": 1,
   "metadata": {},
   "outputs": [
    {
     "data": {
      "text/plain": [
       "'3.6.1 |Continuum Analytics, Inc.| (default, Mar 22 2017, 19:25:17) \\n[GCC 4.2.1 Compatible Apple LLVM 6.0 (clang-600.0.57)]'"
      ]
     },
     "execution_count": 1,
     "metadata": {},
     "output_type": "execute_result"
    }
   ],
   "source": [
    "import sys\n",
    "sys.version"
   ]
  },
  {
   "cell_type": "code",
   "execution_count": 2,
   "metadata": {
    "collapsed": true
   },
   "outputs": [],
   "source": [
    "# Let's figure out control flow... create object with __enter__ and __exit__ methods\n",
    "\n",
    "class Foo():\n",
    "    def __init__(self):\n",
    "        print('__init__ called')\n",
    "        self.init_var = 0\n",
    "        \n",
    "    def __enter__(self):\n",
    "        print('__enter__ called')\n",
    "        return self\n",
    "    \n",
    "    def __exit__(self, exc_type, exc_value, exc_traceback):\n",
    "        print('__exit__ called')\n",
    "        if exc_type:\n",
    "            print(f'exc_type: {exc_type}')\n",
    "            print(f'exc_value: {exc_value}')\n",
    "            print(f'exc_traceback: {exc_traceback}')\n",
    "            \n",
    "    def add_two(self):\n",
    "        self.init_var += 2"
   ]
  },
  {
   "cell_type": "code",
   "execution_count": 3,
   "metadata": {},
   "outputs": [
    {
     "name": "stdout",
     "output_type": "stream",
     "text": [
      "__init__ called\n"
     ]
    }
   ],
   "source": [
    "my_object = Foo()"
   ]
  },
  {
   "cell_type": "code",
   "execution_count": 4,
   "metadata": {},
   "outputs": [
    {
     "data": {
      "text/plain": [
       "0"
      ]
     },
     "execution_count": 4,
     "metadata": {},
     "output_type": "execute_result"
    }
   ],
   "source": [
    "my_object.init_var"
   ]
  },
  {
   "cell_type": "code",
   "execution_count": 5,
   "metadata": {},
   "outputs": [
    {
     "data": {
      "text/plain": [
       "2"
      ]
     },
     "execution_count": 5,
     "metadata": {},
     "output_type": "execute_result"
    }
   ],
   "source": [
    "my_object.add_two()\n",
    "my_object.init_var"
   ]
  },
  {
   "cell_type": "code",
   "execution_count": 6,
   "metadata": {},
   "outputs": [
    {
     "name": "stdout",
     "output_type": "stream",
     "text": [
      "__enter__ called\n",
      "inside with statement body\n",
      "__exit__ called\n"
     ]
    }
   ],
   "source": [
    "# regular flow without exceptions\n",
    "with my_object as obj:\n",
    "    print('inside with statement body')"
   ]
  },
  {
   "cell_type": "code",
   "execution_count": 7,
   "metadata": {},
   "outputs": [
    {
     "name": "stdout",
     "output_type": "stream",
     "text": [
      "__enter__ called\n",
      "2\n",
      "__exit__ called\n"
     ]
    }
   ],
   "source": [
    "# what can we access in the object that is returned inside with statement context\n",
    "with my_object as obj:\n",
    "    print(obj.init_var)"
   ]
  },
  {
   "cell_type": "code",
   "execution_count": 8,
   "metadata": {},
   "outputs": [
    {
     "name": "stdout",
     "output_type": "stream",
     "text": [
      "__enter__ called\n",
      "4\n",
      "__exit__ called\n"
     ]
    }
   ],
   "source": [
    "# adding 2 to the var inside statement\n",
    "with my_object as obj:\n",
    "    my_object.add_two()\n",
    "    print(obj.init_var)"
   ]
  },
  {
   "cell_type": "code",
   "execution_count": 9,
   "metadata": {},
   "outputs": [
    {
     "name": "stdout",
     "output_type": "stream",
     "text": [
      "__init__ called\n",
      "__enter__ called\n",
      "0\n",
      "__exit__ called\n"
     ]
    }
   ],
   "source": [
    "# using a new instance in context expression\n",
    "with Foo() as obj:\n",
    "    print(obj.init_var)"
   ]
  },
  {
   "cell_type": "code",
   "execution_count": 10,
   "metadata": {},
   "outputs": [
    {
     "name": "stdout",
     "output_type": "stream",
     "text": [
      "__enter__ called\n",
      "inside with statement body\n",
      "__exit__ called\n",
      "exc_type: <class 'Exception'>\n",
      "exc_value: exception raised\n",
      "exc_traceback: <traceback object at 0x110aebc08>\n"
     ]
    },
    {
     "ename": "Exception",
     "evalue": "exception raised",
     "output_type": "error",
     "traceback": [
      "\u001b[0;31m---------------------------------------------------------------------------\u001b[0m",
      "\u001b[0;31mException\u001b[0m                                 Traceback (most recent call last)",
      "\u001b[0;32m<ipython-input-10-a6c95ae7fd46>\u001b[0m in \u001b[0;36m<module>\u001b[0;34m()\u001b[0m\n\u001b[1;32m      2\u001b[0m \u001b[0;32mwith\u001b[0m \u001b[0mmy_object\u001b[0m \u001b[0;32mas\u001b[0m \u001b[0mobj\u001b[0m\u001b[0;34m:\u001b[0m\u001b[0;34m\u001b[0m\u001b[0m\n\u001b[1;32m      3\u001b[0m     \u001b[0mprint\u001b[0m\u001b[0;34m(\u001b[0m\u001b[0;34m'inside with statement body'\u001b[0m\u001b[0;34m)\u001b[0m\u001b[0;34m\u001b[0m\u001b[0m\n\u001b[0;32m----> 4\u001b[0;31m     \u001b[0;32mraise\u001b[0m \u001b[0mException\u001b[0m\u001b[0;34m(\u001b[0m\u001b[0;34m'exception raised'\u001b[0m\u001b[0;34m)\u001b[0m\u001b[0;34m.\u001b[0m\u001b[0mwith_traceback\u001b[0m\u001b[0;34m(\u001b[0m\u001b[0;32mNone\u001b[0m\u001b[0;34m)\u001b[0m\u001b[0;34m\u001b[0m\u001b[0m\n\u001b[0m",
      "\u001b[0;31mException\u001b[0m: exception raised"
     ]
    }
   ],
   "source": [
    "# raising exceptions within block\n",
    "with my_object as obj:\n",
    "    print('inside with statement body')\n",
    "    raise Exception('exception raised').with_traceback(None)"
   ]
  },
  {
   "cell_type": "code",
   "execution_count": 11,
   "metadata": {},
   "outputs": [
    {
     "name": "stdout",
     "output_type": "stream",
     "text": [
      "__enter__ called\n",
      "inside with statement body\n",
      "__exit__ called\n",
      "exc_type: <class 'Exception'>\n",
      "exc_value: exception raised\n",
      "exc_traceback: <traceback object at 0x110b52dc8>\n",
      "handling exception\n",
      "exception raised\n",
      "Finally section\n"
     ]
    }
   ],
   "source": [
    "# try to handle exception using try...except...finally\n",
    "try:\n",
    "    with my_object as obj:\n",
    "        print('inside with statement body')\n",
    "        raise Exception('exception raised').with_traceback(None)\n",
    "except Exception as e:\n",
    "    print('handling exception')\n",
    "    print(e)\n",
    "finally:\n",
    "    print('Finally section')"
   ]
  },
  {
   "cell_type": "markdown",
   "metadata": {},
   "source": [
    "We can handle Exceptions inside our ```__exit__()``` block and ```return True``` to surpress it up the chain. We'll come back to this in a bit..."
   ]
  },
  {
   "cell_type": "code",
   "execution_count": 12,
   "metadata": {},
   "outputs": [
    {
     "name": "stdout",
     "output_type": "stream",
     "text": [
      "__enter__ called\n",
      "inside first context\n",
      "__enter__ called\n",
      "__exit__ called\n",
      "exc_type: <class 'Exception'>\n",
      "exc_value: exception raised inner most block\n",
      "exc_traceback: <traceback object at 0x110b070c8>\n",
      "__exit__ called\n",
      "exc_type: <class 'Exception'>\n",
      "exc_value: exception raised inner most block\n",
      "exc_traceback: <traceback object at 0x110b070c8>\n"
     ]
    },
    {
     "ename": "Exception",
     "evalue": "exception raised inner most block",
     "output_type": "error",
     "traceback": [
      "\u001b[0;31m---------------------------------------------------------------------------\u001b[0m",
      "\u001b[0;31mException\u001b[0m                                 Traceback (most recent call last)",
      "\u001b[0;32m<ipython-input-12-926af76a23fc>\u001b[0m in \u001b[0;36m<module>\u001b[0;34m()\u001b[0m\n\u001b[1;32m      3\u001b[0m     \u001b[0mprint\u001b[0m\u001b[0;34m(\u001b[0m\u001b[0;34m'inside first context'\u001b[0m\u001b[0;34m)\u001b[0m\u001b[0;34m\u001b[0m\u001b[0m\n\u001b[1;32m      4\u001b[0m     \u001b[0;32mwith\u001b[0m \u001b[0mmy_object\u001b[0m \u001b[0;32mas\u001b[0m \u001b[0mobj2\u001b[0m\u001b[0;34m:\u001b[0m\u001b[0;34m\u001b[0m\u001b[0m\n\u001b[0;32m----> 5\u001b[0;31m         \u001b[0;32mraise\u001b[0m \u001b[0mException\u001b[0m\u001b[0;34m(\u001b[0m\u001b[0;34m'exception raised inner most block'\u001b[0m\u001b[0;34m)\u001b[0m\u001b[0;34m.\u001b[0m\u001b[0mwith_traceback\u001b[0m\u001b[0;34m(\u001b[0m\u001b[0;32mNone\u001b[0m\u001b[0;34m)\u001b[0m\u001b[0;34m\u001b[0m\u001b[0m\n\u001b[0m\u001b[1;32m      6\u001b[0m \u001b[0;34m\u001b[0m\u001b[0m\n\u001b[1;32m      7\u001b[0m     \u001b[0mprint\u001b[0m\u001b[0;34m(\u001b[0m\u001b[0;34m'a'\u001b[0m\u001b[0;34m)\u001b[0m\u001b[0;34m\u001b[0m\u001b[0m\n",
      "\u001b[0;31mException\u001b[0m: exception raised inner most block"
     ]
    }
   ],
   "source": [
    "# with statement within a with statement... with-ception\n",
    "with my_object as obj:\n",
    "    print('inside first context')\n",
    "    with my_object as obj2:\n",
    "        raise Exception('exception raised inner most block').with_traceback(None)\n",
    "    \n",
    "    print('a')"
   ]
  },
  {
   "cell_type": "code",
   "execution_count": 13,
   "metadata": {},
   "outputs": [
    {
     "data": {
      "text/plain": [
       "4"
      ]
     },
     "execution_count": 13,
     "metadata": {},
     "output_type": "execute_result"
    }
   ],
   "source": [
    "# increment before exception, does it go thru?\n",
    "my_object.init_var"
   ]
  },
  {
   "cell_type": "code",
   "execution_count": 14,
   "metadata": {},
   "outputs": [
    {
     "name": "stdout",
     "output_type": "stream",
     "text": [
      "__enter__ called\n",
      "inside first context\n",
      "__enter__ called\n",
      "__exit__ called\n",
      "exc_type: <class 'Exception'>\n",
      "exc_value: exception raised inner most block\n",
      "exc_traceback: <traceback object at 0x110aeb988>\n",
      "__exit__ called\n",
      "exc_type: <class 'Exception'>\n",
      "exc_value: exception raised inner most block\n",
      "exc_traceback: <traceback object at 0x110aeb988>\n"
     ]
    },
    {
     "ename": "Exception",
     "evalue": "exception raised inner most block",
     "output_type": "error",
     "traceback": [
      "\u001b[0;31m---------------------------------------------------------------------------\u001b[0m",
      "\u001b[0;31mException\u001b[0m                                 Traceback (most recent call last)",
      "\u001b[0;32m<ipython-input-14-f11e7f99c627>\u001b[0m in \u001b[0;36m<module>\u001b[0;34m()\u001b[0m\n\u001b[1;32m      5\u001b[0m     \u001b[0mprint\u001b[0m\u001b[0;34m(\u001b[0m\u001b[0;34m'inside first context'\u001b[0m\u001b[0;34m)\u001b[0m\u001b[0;34m\u001b[0m\u001b[0m\n\u001b[1;32m      6\u001b[0m     \u001b[0;32mwith\u001b[0m \u001b[0mmy_object\u001b[0m \u001b[0;32mas\u001b[0m \u001b[0mobj2\u001b[0m\u001b[0;34m:\u001b[0m\u001b[0;34m\u001b[0m\u001b[0m\n\u001b[0;32m----> 7\u001b[0;31m         \u001b[0;32mraise\u001b[0m \u001b[0mException\u001b[0m\u001b[0;34m(\u001b[0m\u001b[0;34m'exception raised inner most block'\u001b[0m\u001b[0;34m)\u001b[0m\u001b[0;34m.\u001b[0m\u001b[0mwith_traceback\u001b[0m\u001b[0;34m(\u001b[0m\u001b[0;32mNone\u001b[0m\u001b[0;34m)\u001b[0m\u001b[0;34m\u001b[0m\u001b[0m\n\u001b[0m\u001b[1;32m      8\u001b[0m \u001b[0;34m\u001b[0m\u001b[0m\n\u001b[1;32m      9\u001b[0m     \u001b[0mprint\u001b[0m\u001b[0;34m(\u001b[0m\u001b[0;34m'a'\u001b[0m\u001b[0;34m)\u001b[0m\u001b[0;34m\u001b[0m\u001b[0m\n",
      "\u001b[0;31mException\u001b[0m: exception raised inner most block"
     ]
    }
   ],
   "source": [
    "# how does variable context change?\n",
    "# with statement within a with statement... with-ception\n",
    "with my_object as obj:\n",
    "    my_object.add_two()\n",
    "    print('inside first context')\n",
    "    with my_object as obj2:\n",
    "        raise Exception('exception raised inner most block').with_traceback(None)\n",
    "    \n",
    "    print('a')"
   ]
  },
  {
   "cell_type": "code",
   "execution_count": 15,
   "metadata": {},
   "outputs": [
    {
     "data": {
      "text/plain": [
       "6"
      ]
     },
     "execution_count": 15,
     "metadata": {},
     "output_type": "execute_result"
    }
   ],
   "source": [
    "my_object.init_var"
   ]
  },
  {
   "cell_type": "markdown",
   "metadata": {},
   "source": [
    "Since we created an instance of ```Foo``` outside of our ```with``` statement, we can access/change ```my_object``` as it is just an instance that can use within our code.\n",
    "\n",
    "If we create a new instance in the ```with``` statement's ```context_expression```, it only exists inside the with statement body."
   ]
  },
  {
   "cell_type": "markdown",
   "metadata": {},
   "source": [
    "#### Handling exceptions in ```__exit__()``` method"
   ]
  },
  {
   "cell_type": "code",
   "execution_count": 16,
   "metadata": {
    "collapsed": true
   },
   "outputs": [],
   "source": [
    "class Foo2():\n",
    "    def __init__(self):\n",
    "        print('__init__ called')\n",
    "        self.init_var = 0\n",
    "        \n",
    "    def __enter__(self):\n",
    "        print('__enter__ called')\n",
    "        return self\n",
    "    \n",
    "    def __exit__(self, exc_type, exc_value, exc_traceback):\n",
    "        print('__exit__ called')\n",
    "        if exc_type:\n",
    "            print(f'exc_type: {exc_type}')\n",
    "            print(f'exc_value: {exc_value}')\n",
    "            print(f'exc_traceback: {exc_traceback}')\n",
    "            print('exception handled')\n",
    "        # return True to handle exception...\n",
    "        return True\n",
    "            \n",
    "    def add_two(self):\n",
    "        self.init_var += 2"
   ]
  },
  {
   "cell_type": "code",
   "execution_count": 17,
   "metadata": {},
   "outputs": [
    {
     "name": "stdout",
     "output_type": "stream",
     "text": [
      "__init__ called\n",
      "__enter__ called\n",
      "0\n",
      "__exit__ called\n",
      "exc_type: <class 'Exception'>\n",
      "exc_value: exception raised\n",
      "exc_traceback: <traceback object at 0x110b74348>\n",
      "exception handled\n"
     ]
    }
   ],
   "source": [
    "# using a new instance in context expression\n",
    "with Foo2() as obj:\n",
    "    print(obj.init_var)\n",
    "    raise Exception('exception raised').with_traceback(None)"
   ]
  },
  {
   "cell_type": "markdown",
   "metadata": {},
   "source": [
    "Playing around in the REPL is invaluable to figuring out how things work."
   ]
  },
  {
   "cell_type": "markdown",
   "metadata": {},
   "source": [
    "---"
   ]
  },
  {
   "cell_type": "markdown",
   "metadata": {},
   "source": [
    "## When to use Context Managers\n",
    "\n",
    "Dave Brondsema gave a [great talk on Decorators and Context Managers](https://www.youtube.com/watch?v=cSbD5SKwak0) at PyCon 2012. [He mentioned](https://youtu.be/cSbD5SKwak0?t=13m15s) that we should use context managers when we see any of the following patterns in our code:\n",
    "* ```Open``` - ```Close``` (see example below)\n",
    "* ```Lock``` - ```Release```\n",
    "* ```Change``` - ```Reset```\n",
    "* ```Enter``` - ```Exit```\n",
    "* ```Start``` - ```Stop```\n",
    "\n",
    "Arnav Khare details a lot of great use cases of [Context Managers in the Real World](http://arnavk.com/posts/python-context-managers/) and provides starter code for each example."
   ]
  },
  {
   "cell_type": "markdown",
   "metadata": {},
   "source": [
    "---"
   ]
  },
  {
   "cell_type": "markdown",
   "metadata": {},
   "source": [
    "## Creating a Context Manager\n",
    "\n",
    "### Project Background\n",
    "\n",
    "A blog post by [John Resig](https://twitter.com/jeresig) on the benefits of [writing code everyday](https://johnresig.com/blog/write-code-every-day/) inspired me to set aside a minimum of 30 minutes each day to work on side projects. I've been documenting my streak using the [#codeeveryday hashtag](https://twitter.com/search?q=%23codeeveryday) on Twitter.\n",
    "\n",
    "After knocking out a few side projects from my todo list, I started working on a script that would analyze my #codeeveryday tweets and create a dashboard to display progress.\n",
    "\n",
    "<img src=\"images/1-10/8_meta_meme.jpg\" alt=\"Meta Xzibit\" width=400 />\n",
    "\n",
    "In my AWS account, I have a Lambda script that downloads and store my tweets in a MongoDB instance running on MLab. I will be querying this data store to generate my dashboard, but you can use any Mongo collection you want.\n",
    "\n",
    "### Using ```try...finally``` Blocks\n",
    "\n",
    "Let's take a look at [our function](https://github.com/alysivji/codeeveryday-hashtag-dashboard/blob/master/create-tweet-hashtag-dashboard.ipynb) to query MongoDB for all tweets containing a specific hashtag using the ```try...finally``` pattern:\n",
    "\n",
    "```python\n",
    "def download_tweets_by_hashtag_nonpythonic(hashtag):\n",
    "    '''Connect to MongoDB, download tweets with param hashtags\n",
    "\n",
    "    Args:\n",
    "        * hashtag - text hashtag\n",
    "\n",
    "    Returns\n",
    "        * list of Tweets containing hashtag\n",
    "    '''\n",
    "\n",
    "    tweets = []\n",
    "    try:\n",
    "        client = MongoClient(mlab_uri)\n",
    "        db = client.get_default_database()\n",
    "        coll = db[collection]\n",
    "        tweets = coll.find({\"entities.hashtags.text\":f\"{hashtag}\"})\n",
    "    finally:\n",
    "        client.close()\n",
    "        return tweets\n",
    "```\n",
    "\n",
    "While this does work, we have to remember to add code in our ```finally``` block to close the connection to our resource in the event that we encounter an exception.\n",
    "\n",
    "### Using Context Managers\n",
    "\n",
    "We begin by [implementing our context manager as a class](http://book.pythontips.com/en/latest/context_managers.html#implementing-context-manager-as-a-class).\n",
    "\n",
    "This class requires the following methods:\n",
    "\n",
    "* ```__init__()``` method to set up the object. We will be connecting to our Mongo database and setting our collection variable\n",
    "* ```__enter__()``` method to return a reference to the collection object\n",
    "* ```__exit__()``` method to close the connection to the database. This connection would be closed even if an exception is raised in our ```with``` block\n",
    "\n",
    "```python\n",
    "from pymongo import MongoClient\n",
    "\n",
    "class MongoCollection(object):\n",
    "    '''Connect to mongodb and return collection within context manager\n",
    "    '''\n",
    "\n",
    "    def __init__(self, uri, collection):\n",
    "        self.client = MongoClient(uri)\n",
    "        self.db = self.client.get_default_database()\n",
    "        self.collection = self.db[collection]\n",
    "\n",
    "    def __enter__(self):\n",
    "        return self.collection\n",
    "\n",
    "    def __exit__(self, exc_type, exc_value, exc_traceback):\n",
    "        self.client.close()\n",
    "```\n",
    "\n",
    "With our context manager created, we write our search command inside a ```with``` block as follows:\n",
    "\n",
    "```python\n",
    "\n",
    "def download_tweets_by_hashtag(hashtag):\n",
    "    '''Connect to MongoDB, download tweets with param hashtags\n",
    "\n",
    "    Args:\n",
    "        * hashtag - text hashtag\n",
    "\n",
    "    Returns\n",
    "        * list of Tweets containing hashtag\n",
    "    '''\n",
    "    with MongoCollection(mlab_uri, collection) as coll:\n",
    "        tweets = coll.find({'entities.hashtags.text':f'{hashtag}'})\n",
    "\n",
    "    return list(tweets)\n",
    "```\n",
    "\n",
    "The code is a lot cleaner as we have abstracted away the database connection information in our ```MongoCollection``` class."
   ]
  },
  {
   "cell_type": "markdown",
   "metadata": {},
   "source": [
    "---"
   ]
  },
  {
   "cell_type": "markdown",
   "metadata": {},
   "source": [
    "## Conclusion\n",
    "\n",
    "Thinking about software development in a deliberate manner makes us better coders. One of the ways we can do this is by \"programming into our language, not in it.\" This means we should be using our language of choice in an idiomatic way versus porting over how we have always done things.\n",
    "\n",
    "In this tutorial, we learned about context managers and the ```with``` statement. We created a context manager object to retrieve documents out of MongoDB and abstracted away the connection logic within our class."
   ]
  },
  {
   "cell_type": "markdown",
   "metadata": {},
   "source": [
    "---"
   ]
  },
  {
   "cell_type": "markdown",
   "metadata": {},
   "source": [
    "#### Additional Resources\n",
    "\n",
    "* [Jeff Knupp - Python with Context Managers](https://jeffknupp.com/blog/2016/03/07/python-with-context-managers/)\n",
    "* [*Python Tips* - Context Managers](http://book.pythontips.com/en/latest/context_managers.html)\n",
    "* [StackOverflow *(Praise Be)* discussion](http://stackoverflow.com/questions/3693771/trying-to-understand-python-with-statement-and-context-managers)\n",
    "* [Arnav Khare - Python in the real world: Context Managers](http://arnavk.com/posts/python-context-managers/)\n",
    "* [Context Managers: Advanced Techniques YouTube video](https://www.youtube.com/watch?v=ORo1-sXmvGg&t=1822s)\n",
    "* [Dave Brondsema - Decorators and Context Managers](https://www.youtube.com/watch?v=cSbD5SKwak0) (PyCon 2012)"
   ]
  }
 ],
 "metadata": {
  "anaconda-cloud": {},
  "kernelspec": {
   "display_name": "Python 3",
   "language": "python",
   "name": "python3"
  },
  "language_info": {
   "codemirror_mode": {
    "name": "ipython",
    "version": 3
   },
   "file_extension": ".py",
   "mimetype": "text/x-python",
   "name": "python",
   "nbconvert_exporter": "python",
   "pygments_lexer": "ipython3",
   "version": "3.6.1"
  }
 },
 "nbformat": 4,
 "nbformat_minor": 2
}

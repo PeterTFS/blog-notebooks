{
 "cells": [
  {
   "cell_type": "markdown",
   "metadata": {},
   "source": [
    "# Context Manager Control Flow"
   ]
  },
  {
   "cell_type": "code",
   "execution_count": 1,
   "metadata": {},
   "outputs": [
    {
     "data": {
      "text/plain": [
       "'3.6.1 |Continuum Analytics, Inc.| (default, Mar 22 2017, 19:25:17) \\n[GCC 4.2.1 Compatible Apple LLVM 6.0 (clang-600.0.57)]'"
      ]
     },
     "execution_count": 1,
     "metadata": {},
     "output_type": "execute_result"
    }
   ],
   "source": [
    "import sys\n",
    "sys.version"
   ]
  },
  {
   "cell_type": "markdown",
   "metadata": {},
   "source": [
    "## Creating a context manager protocol"
   ]
  },
  {
   "cell_type": "markdown",
   "metadata": {},
   "source": [
    "### Let's figure out control flow"
   ]
  },
  {
   "cell_type": "code",
   "execution_count": 2,
   "metadata": {
    "collapsed": true
   },
   "outputs": [],
   "source": [
    "class Foo():\n",
    "    def __init__(self):\n",
    "        print('__init__ called')\n",
    "        self.init_var = 0\n",
    "        \n",
    "    def __enter__(self):\n",
    "        print('__enter__ called')\n",
    "        return self\n",
    "    \n",
    "    def __exit__(self, exc_type, exc_value, exc_traceback):\n",
    "        print('__exit__ called')\n",
    "        if exc_type:\n",
    "            print(f'exc_type: {exc_type}')\n",
    "            print(f'exc_value: {exc_value}')\n",
    "            print(f'exc_traceback: {exc_traceback}')\n",
    "            \n",
    "    def add_two(self):\n",
    "        self.init_var += 2"
   ]
  },
  {
   "cell_type": "code",
   "execution_count": 3,
   "metadata": {},
   "outputs": [
    {
     "name": "stdout",
     "output_type": "stream",
     "text": [
      "__init__ called\n"
     ]
    }
   ],
   "source": [
    "my_object = Foo()"
   ]
  },
  {
   "cell_type": "code",
   "execution_count": 4,
   "metadata": {},
   "outputs": [
    {
     "data": {
      "text/plain": [
       "0"
      ]
     },
     "execution_count": 4,
     "metadata": {},
     "output_type": "execute_result"
    }
   ],
   "source": [
    "my_object.init_var"
   ]
  },
  {
   "cell_type": "code",
   "execution_count": 5,
   "metadata": {},
   "outputs": [
    {
     "data": {
      "text/plain": [
       "2"
      ]
     },
     "execution_count": 5,
     "metadata": {},
     "output_type": "execute_result"
    }
   ],
   "source": [
    "my_object.add_two()\n",
    "my_object.init_var"
   ]
  },
  {
   "cell_type": "code",
   "execution_count": 6,
   "metadata": {},
   "outputs": [
    {
     "name": "stdout",
     "output_type": "stream",
     "text": [
      "__enter__ called\n",
      "inside with statement body\n",
      "__exit__ called\n"
     ]
    }
   ],
   "source": [
    "# regular flow without exceptions\n",
    "with my_object as obj:\n",
    "    print('inside with statement body')"
   ]
  },
  {
   "cell_type": "code",
   "execution_count": 7,
   "metadata": {},
   "outputs": [
    {
     "name": "stdout",
     "output_type": "stream",
     "text": [
      "__enter__ called\n",
      "2\n",
      "__exit__ called\n"
     ]
    }
   ],
   "source": [
    "# what can we access in the object that is returned inside with statement context\n",
    "with my_object as obj:\n",
    "    print(obj.init_var)"
   ]
  },
  {
   "cell_type": "code",
   "execution_count": 8,
   "metadata": {},
   "outputs": [
    {
     "name": "stdout",
     "output_type": "stream",
     "text": [
      "__enter__ called\n",
      "4\n",
      "__exit__ called\n"
     ]
    }
   ],
   "source": [
    "# adding 2 to the var\n",
    "my_object.add_two()\n",
    "with my_object as obj:\n",
    "    print(obj.init_var)"
   ]
  },
  {
   "cell_type": "code",
   "execution_count": 9,
   "metadata": {},
   "outputs": [
    {
     "name": "stdout",
     "output_type": "stream",
     "text": [
      "__init__ called\n",
      "__enter__ called\n",
      "0\n",
      "__exit__ called\n"
     ]
    }
   ],
   "source": [
    "# using a new instance in context expression\n",
    "with Foo() as obj:\n",
    "    print(obj.init_var)"
   ]
  },
  {
   "cell_type": "code",
   "execution_count": 10,
   "metadata": {},
   "outputs": [
    {
     "name": "stdout",
     "output_type": "stream",
     "text": [
      "__enter__ called\n",
      "inside with statement body\n",
      "__exit__ called\n",
      "exc_type: <class 'Exception'>\n",
      "exc_value: exception raised\n",
      "exc_traceback: <traceback object at 0x102d45a48>\n"
     ]
    },
    {
     "ename": "Exception",
     "evalue": "exception raised",
     "output_type": "error",
     "traceback": [
      "\u001b[0;31m---------------------------------------------------------------------------\u001b[0m",
      "\u001b[0;31mException\u001b[0m                                 Traceback (most recent call last)",
      "\u001b[0;32m<ipython-input-10-a6c95ae7fd46>\u001b[0m in \u001b[0;36m<module>\u001b[0;34m()\u001b[0m\n\u001b[1;32m      2\u001b[0m \u001b[0;32mwith\u001b[0m \u001b[0mmy_object\u001b[0m \u001b[0;32mas\u001b[0m \u001b[0mobj\u001b[0m\u001b[0;34m:\u001b[0m\u001b[0;34m\u001b[0m\u001b[0m\n\u001b[1;32m      3\u001b[0m     \u001b[0mprint\u001b[0m\u001b[0;34m(\u001b[0m\u001b[0;34m'inside with statement body'\u001b[0m\u001b[0;34m)\u001b[0m\u001b[0;34m\u001b[0m\u001b[0m\n\u001b[0;32m----> 4\u001b[0;31m     \u001b[0;32mraise\u001b[0m \u001b[0mException\u001b[0m\u001b[0;34m(\u001b[0m\u001b[0;34m'exception raised'\u001b[0m\u001b[0;34m)\u001b[0m\u001b[0;34m.\u001b[0m\u001b[0mwith_traceback\u001b[0m\u001b[0;34m(\u001b[0m\u001b[0;32mNone\u001b[0m\u001b[0;34m)\u001b[0m\u001b[0;34m\u001b[0m\u001b[0m\n\u001b[0m",
      "\u001b[0;31mException\u001b[0m: exception raised"
     ]
    }
   ],
   "source": [
    "# raising exceptions within block\n",
    "with my_object as obj:\n",
    "    print('inside with statement body')\n",
    "    raise Exception('exception raised').with_traceback(None)"
   ]
  },
  {
   "cell_type": "code",
   "execution_count": 11,
   "metadata": {},
   "outputs": [
    {
     "name": "stdout",
     "output_type": "stream",
     "text": [
      "__enter__ called\n",
      "inside with statement body\n",
      "__exit__ called\n",
      "exc_type: <class 'Exception'>\n",
      "exc_value: exception raised\n",
      "exc_traceback: <traceback object at 0x102d3e248>\n",
      "handling exception\n",
      "exception raised\n",
      "Finally section\n"
     ]
    }
   ],
   "source": [
    "# try to handle exception\n",
    "try:\n",
    "    with my_object as obj:\n",
    "        print('inside with statement body')\n",
    "        raise Exception('exception raised').with_traceback(None)\n",
    "except Exception as e:\n",
    "    print('handling exception')\n",
    "    print(e)\n",
    "finally:\n",
    "    print('Finally section')"
   ]
  },
  {
   "cell_type": "markdown",
   "metadata": {},
   "source": [
    "### There is probably a better way to do this, come back to it"
   ]
  },
  {
   "cell_type": "code",
   "execution_count": 12,
   "metadata": {},
   "outputs": [
    {
     "name": "stdout",
     "output_type": "stream",
     "text": [
      "__enter__ called\n",
      "inside first context\n",
      "__enter__ called\n",
      "__exit__ called\n",
      "exc_type: <class 'Exception'>\n",
      "exc_value: exception raised inner most block\n",
      "exc_traceback: <traceback object at 0x102d21bc8>\n",
      "__exit__ called\n",
      "exc_type: <class 'Exception'>\n",
      "exc_value: exception raised inner most block\n",
      "exc_traceback: <traceback object at 0x102d21bc8>\n"
     ]
    },
    {
     "ename": "Exception",
     "evalue": "exception raised inner most block",
     "output_type": "error",
     "traceback": [
      "\u001b[0;31m---------------------------------------------------------------------------\u001b[0m",
      "\u001b[0;31mException\u001b[0m                                 Traceback (most recent call last)",
      "\u001b[0;32m<ipython-input-12-926af76a23fc>\u001b[0m in \u001b[0;36m<module>\u001b[0;34m()\u001b[0m\n\u001b[1;32m      3\u001b[0m     \u001b[0mprint\u001b[0m\u001b[0;34m(\u001b[0m\u001b[0;34m'inside first context'\u001b[0m\u001b[0;34m)\u001b[0m\u001b[0;34m\u001b[0m\u001b[0m\n\u001b[1;32m      4\u001b[0m     \u001b[0;32mwith\u001b[0m \u001b[0mmy_object\u001b[0m \u001b[0;32mas\u001b[0m \u001b[0mobj2\u001b[0m\u001b[0;34m:\u001b[0m\u001b[0;34m\u001b[0m\u001b[0m\n\u001b[0;32m----> 5\u001b[0;31m         \u001b[0;32mraise\u001b[0m \u001b[0mException\u001b[0m\u001b[0;34m(\u001b[0m\u001b[0;34m'exception raised inner most block'\u001b[0m\u001b[0;34m)\u001b[0m\u001b[0;34m.\u001b[0m\u001b[0mwith_traceback\u001b[0m\u001b[0;34m(\u001b[0m\u001b[0;32mNone\u001b[0m\u001b[0;34m)\u001b[0m\u001b[0;34m\u001b[0m\u001b[0m\n\u001b[0m\u001b[1;32m      6\u001b[0m \u001b[0;34m\u001b[0m\u001b[0m\n\u001b[1;32m      7\u001b[0m     \u001b[0mprint\u001b[0m\u001b[0;34m(\u001b[0m\u001b[0;34m'a'\u001b[0m\u001b[0;34m)\u001b[0m\u001b[0;34m\u001b[0m\u001b[0m\n",
      "\u001b[0;31mException\u001b[0m: exception raised inner most block"
     ]
    }
   ],
   "source": [
    "# with statement within a with statement... with-ception\n",
    "with my_object as obj:\n",
    "    print('inside first context')\n",
    "    with my_object as obj2:\n",
    "        raise Exception('exception raised inner most block').with_traceback(None)\n",
    "    \n",
    "    print('a')"
   ]
  },
  {
   "cell_type": "code",
   "execution_count": 13,
   "metadata": {},
   "outputs": [
    {
     "data": {
      "text/plain": [
       "4"
      ]
     },
     "execution_count": 13,
     "metadata": {},
     "output_type": "execute_result"
    }
   ],
   "source": [
    "my_object.init_var"
   ]
  },
  {
   "cell_type": "code",
   "execution_count": 14,
   "metadata": {},
   "outputs": [
    {
     "name": "stdout",
     "output_type": "stream",
     "text": [
      "__enter__ called\n",
      "inside first context\n",
      "__enter__ called\n",
      "__exit__ called\n",
      "exc_type: <class 'Exception'>\n",
      "exc_value: exception raised inner most block\n",
      "exc_traceback: <traceback object at 0x102dc33c8>\n",
      "__exit__ called\n",
      "exc_type: <class 'Exception'>\n",
      "exc_value: exception raised inner most block\n",
      "exc_traceback: <traceback object at 0x102dc33c8>\n"
     ]
    },
    {
     "ename": "Exception",
     "evalue": "exception raised inner most block",
     "output_type": "error",
     "traceback": [
      "\u001b[0;31m---------------------------------------------------------------------------\u001b[0m",
      "\u001b[0;31mException\u001b[0m                                 Traceback (most recent call last)",
      "\u001b[0;32m<ipython-input-14-f11e7f99c627>\u001b[0m in \u001b[0;36m<module>\u001b[0;34m()\u001b[0m\n\u001b[1;32m      5\u001b[0m     \u001b[0mprint\u001b[0m\u001b[0;34m(\u001b[0m\u001b[0;34m'inside first context'\u001b[0m\u001b[0;34m)\u001b[0m\u001b[0;34m\u001b[0m\u001b[0m\n\u001b[1;32m      6\u001b[0m     \u001b[0;32mwith\u001b[0m \u001b[0mmy_object\u001b[0m \u001b[0;32mas\u001b[0m \u001b[0mobj2\u001b[0m\u001b[0;34m:\u001b[0m\u001b[0;34m\u001b[0m\u001b[0m\n\u001b[0;32m----> 7\u001b[0;31m         \u001b[0;32mraise\u001b[0m \u001b[0mException\u001b[0m\u001b[0;34m(\u001b[0m\u001b[0;34m'exception raised inner most block'\u001b[0m\u001b[0;34m)\u001b[0m\u001b[0;34m.\u001b[0m\u001b[0mwith_traceback\u001b[0m\u001b[0;34m(\u001b[0m\u001b[0;32mNone\u001b[0m\u001b[0;34m)\u001b[0m\u001b[0;34m\u001b[0m\u001b[0m\n\u001b[0m\u001b[1;32m      8\u001b[0m \u001b[0;34m\u001b[0m\u001b[0m\n\u001b[1;32m      9\u001b[0m     \u001b[0mprint\u001b[0m\u001b[0;34m(\u001b[0m\u001b[0;34m'a'\u001b[0m\u001b[0;34m)\u001b[0m\u001b[0;34m\u001b[0m\u001b[0m\n",
      "\u001b[0;31mException\u001b[0m: exception raised inner most block"
     ]
    }
   ],
   "source": [
    "# how does variable context change?\n",
    "# with statement within a with statement... with-ception\n",
    "with my_object as obj:\n",
    "    my_object.add_two()\n",
    "    print('inside first context')\n",
    "    with my_object as obj2:\n",
    "        raise Exception('exception raised inner most block').with_traceback(None)\n",
    "    \n",
    "    print('a')"
   ]
  },
  {
   "cell_type": "code",
   "execution_count": 15,
   "metadata": {},
   "outputs": [
    {
     "data": {
      "text/plain": [
       "6"
      ]
     },
     "execution_count": 15,
     "metadata": {},
     "output_type": "execute_result"
    }
   ],
   "source": [
    "my_object.init_var"
   ]
  },
  {
   "cell_type": "markdown",
   "metadata": {},
   "source": [
    "### Since we created my_object outside of a with statement, it can be changed. Instance exists\n",
    "\n",
    "### If we create a new context expression variable in our with statement, it only exists inside the with's scope"
   ]
  },
  {
   "cell_type": "markdown",
   "metadata": {
    "collapsed": true
   },
   "source": [
    "---"
   ]
  },
  {
   "cell_type": "markdown",
   "metadata": {},
   "source": [
    "## How can we handle Exceptions?"
   ]
  },
  {
   "cell_type": "markdown",
   "metadata": {},
   "source": [
    "#### If the __exit__() method returns True, the exception can be considered handled... so let's test that out"
   ]
  },
  {
   "cell_type": "code",
   "execution_count": 16,
   "metadata": {
    "collapsed": true
   },
   "outputs": [],
   "source": [
    "class Foo2():\n",
    "    def __init__(self):\n",
    "        print('__init__ called')\n",
    "        self.init_var = 0\n",
    "        \n",
    "    def __enter__(self):\n",
    "        print('__enter__ called')\n",
    "        return self\n",
    "    \n",
    "    def __exit__(self, exc_type, exc_value, exc_traceback):\n",
    "        print('__exit__ called')\n",
    "        if exc_type:\n",
    "            print(f'exc_type: {exc_type}')\n",
    "            print(f'exc_value: {exc_value}')\n",
    "            print(f'exc_traceback: {exc_traceback}')\n",
    "            print('exception handled')\n",
    "        # return True to handle exception...\n",
    "        return True\n",
    "            \n",
    "    def add_two(self):\n",
    "        self.init_var += 2"
   ]
  },
  {
   "cell_type": "code",
   "execution_count": 17,
   "metadata": {},
   "outputs": [
    {
     "name": "stdout",
     "output_type": "stream",
     "text": [
      "__init__ called\n",
      "__enter__ called\n",
      "0\n",
      "__exit__ called\n",
      "exc_type: <class 'Exception'>\n",
      "exc_value: exception raised\n",
      "exc_traceback: <traceback object at 0x102b61248>\n",
      "exception handled\n"
     ]
    }
   ],
   "source": [
    "# using a new instance in context expression\n",
    "with Foo2() as obj:\n",
    "    print(obj.init_var)\n",
    "    raise Exception('exception raised').with_traceback(None)"
   ]
  },
  {
   "cell_type": "markdown",
   "metadata": {
    "collapsed": true
   },
   "source": []
  }
 ],
 "metadata": {
  "kernelspec": {
   "display_name": "Python 3",
   "language": "python",
   "name": "python3"
  },
  "language_info": {
   "codemirror_mode": {
    "name": "ipython",
    "version": 3
   },
   "file_extension": ".py",
   "mimetype": "text/x-python",
   "name": "python",
   "nbconvert_exporter": "python",
   "pygments_lexer": "ipython3",
   "version": "3.6.1"
  }
 },
 "nbformat": 4,
 "nbformat_minor": 2
}

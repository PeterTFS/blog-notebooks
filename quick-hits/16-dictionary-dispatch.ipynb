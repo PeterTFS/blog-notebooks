{
 "cells": [
  {
   "cell_type": "markdown",
   "metadata": {},
   "source": [
    "[ChiPy](http://www.chipy.org/) hosts [Python Project Night](https://www.meetup.com/_ChiPy_/events/239174106/) on the 3rd Thursday of every month. Groups of four are given an hour to work through a structured exercise with each person spending 15 minutes at the keyboard writing code. At the end of the hour, one group is selected to present their solution.\n",
    "\n",
    "Project Night is a great way to practice problem solving and pair programming skills in an encouraging and helpful environment. There are also volunteer tutors wandering the room to answer questions.\n",
    "\n",
    "Last week's project involved creating a command line application using the <code>[python prompt toolkit](https://github.com/jonathanslenders/python-prompt-toolkit)</code>. During show and tell, one of the groups used a Python technique called \"dictionary dispatch\" to replicate the behavior of a switch statement.\n",
    "\n",
    "In this [Quick Hit](TODO link to section), we will explore the dictionary dispatch technique."
   ]
  },
  {
   "cell_type": "markdown",
   "metadata": {},
   "source": [
    "---"
   ]
  },
  {
   "cell_type": "markdown",
   "metadata": {},
   "source": [
    "From the [Python data model](https://docs.python.org/3/reference/datamodel.html):\n",
    "\n",
    "> Objects are Python’s abstraction for data. All data in a Python program is represented by objects or by relations between objects.\n",
    "\n",
    "Everything **is** an object so we can treat everything **like** an object.\n",
    "\n",
    "This includes functions. Python functions are \"[first-class](https://dbader.org/blog/python-first-class-functions)\" objects.\n",
    "\n",
    "We can assign functions to variables, store them as data structures, pass functions as arguments to other functions, and return functions as values.\n",
    "\n",
    "The dictionary dispatch technique will take advantage of this fact."
   ]
  },
  {
   "cell_type": "markdown",
   "metadata": {},
   "source": [
    "---"
   ]
  },
  {
   "cell_type": "markdown",
   "metadata": {},
   "source": [
    "Let's create a simple calculator program that will take two numbers along with an operation (```add```, ```sub```, ```mult```, ```div```) and then return a computed result.\n",
    "\n",
    "We'll define the operation func"
   ]
  },
  {
   "cell_type": "code",
   "execution_count": 1,
   "metadata": {
    "collapsed": true
   },
   "outputs": [],
   "source": [
    "def add(num1, num2):\n",
    "    return num1 + num2"
   ]
  },
  {
   "cell_type": "code",
   "execution_count": 2,
   "metadata": {
    "collapsed": true
   },
   "outputs": [],
   "source": [
    "def subtract(num1, num2):\n",
    "    return num1 - num2"
   ]
  },
  {
   "cell_type": "code",
   "execution_count": 3,
   "metadata": {
    "collapsed": true
   },
   "outputs": [],
   "source": [
    "def multiply(num1, num2):\n",
    "    return num1 * num2"
   ]
  },
  {
   "cell_type": "code",
   "execution_count": 4,
   "metadata": {
    "collapsed": true
   },
   "outputs": [],
   "source": [
    "def divide(num1, num2):\n",
    "    try:\n",
    "        return num1 / num2\n",
    "    except ZeroDivisionError:\n",
    "        return \"Can't divide by 0\""
   ]
  },
  {
   "cell_type": "code",
   "execution_count": 5,
   "metadata": {},
   "outputs": [
    {
     "name": "stdout",
     "output_type": "stream",
     "text": [
      "1.0\n",
      "Can't divide by 0\n"
     ]
    }
   ],
   "source": [
    "print(divide(5, 5))\n",
    "print(divide(5, 0))"
   ]
  },
  {
   "cell_type": "markdown",
   "metadata": {},
   "source": [
    "We will creating a mapping that takes in an operation (key) and assign it to the appropriate function (value):"
   ]
  },
  {
   "cell_type": "code",
   "execution_count": 6,
   "metadata": {
    "collapsed": true
   },
   "outputs": [],
   "source": [
    "func_mapping = {\n",
    "    'add': add,\n",
    "    'sub': subtract,\n",
    "    'mult': multiply,\n",
    "    'div': divide,\n",
    "}"
   ]
  },
  {
   "cell_type": "markdown",
   "metadata": {},
   "source": [
    "---"
   ]
  },
  {
   "cell_type": "markdown",
   "metadata": {},
   "source": [
    "Let's test to make sure our program works:"
   ]
  },
  {
   "cell_type": "code",
   "execution_count": 7,
   "metadata": {},
   "outputs": [
    {
     "name": "stdout",
     "output_type": "stream",
     "text": [
      "Enter operation (add, sub, mult, div): div\n",
      "Enter first number: 5\n",
      "Enter second number: 5\n",
      "1.0\n"
     ]
    }
   ],
   "source": [
    "op = input('Enter operation (add, sub, mult, div): ')\n",
    "val1 = int(input('Enter first number: '))\n",
    "val2 = int(input('Enter second number: '))\n",
    "\n",
    "print(func_mapping[op](val1, val2))"
   ]
  },
  {
   "cell_type": "markdown",
   "metadata": {},
   "source": [
    "Looks good!\n",
    "\n",
    "Based on the selected ```op```, we call the appropriate function to perform a calculation on the entered numbers.\n",
    "\n",
    "As Python [doesn't have a switch or case statement](https://docs.python.org/3/faq/design.html#why-isn-t-there-a-switch-or-case-statement-in-python), we can use the dictionary dispatch technique to map functions to case values.\n",
    "\n",
    "I fleshed out the calculator program into a console app with the <code>[argparse](https://docs.python.org/3/library/argparse.html)</code> module from the Python Standard Library. Code is on Github."
   ]
  },
  {
   "cell_type": "markdown",
   "metadata": {},
   "source": [
    "---"
   ]
  },
  {
   "cell_type": "markdown",
   "metadata": {},
   "source": [
    "##### Additional Resources\n",
    "\n",
    "* [Why Doesn't Python Have Switch/Case?](https://www.pydanny.com/why-doesnt-python-have-switch-case.html) - PyDanny\n",
    "* [Dictionary Dispatching](https://www.safaribooksonline.com/library/view/python-cookbook-2nd/0596007973/ch04s17.html) - Python Cookbook\n",
    "* [Multiple Dispatching](http://python-3-patterns-idioms-test.readthedocs.io/en/latest/MultipleDispatching.html) - Python 3 Patterns, Recipes and Idioms\n",
    "* [Multiple Dispatch](https://en.wikipedia.org/wiki/Multiple_dispatch) - Wikipedia"
   ]
  }
 ],
 "metadata": {
  "kernelspec": {
   "display_name": "Python 3",
   "language": "python",
   "name": "python3"
  },
  "language_info": {
   "codemirror_mode": {
    "name": "ipython",
    "version": 3
   },
   "file_extension": ".py",
   "mimetype": "text/x-python",
   "name": "python",
   "nbconvert_exporter": "python",
   "pygments_lexer": "ipython3",
   "version": "3.6.1"
  }
 },
 "nbformat": 4,
 "nbformat_minor": 2
}

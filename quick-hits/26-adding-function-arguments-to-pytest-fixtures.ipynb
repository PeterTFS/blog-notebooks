{
 "cells": [
  {
   "cell_type": "markdown",
   "metadata": {},
   "source": [
    "Testing is one of my favourite things about programming. There is nothing like the piece of mind that comes from being able to modify code without having to worry about breaking something.\n",
    "\n",
    "Like most Python programmers, I started testing using the [PyUnit framework](https://docs.python.org/3/library/unittest.html) (aka `unittest`) included in [Python's Standard Library](https://docs.python.org/3.6/library/index.html). PyUnit is part of the [xUnit](https://en.wikipedia.org/wiki/XUnit) family of testing frameworks. There are [lots](https://www.amazon.com/Effective-Unit-Testing-guide-developers/dp/1935182579) [of](https://www.amazon.com/Test-Driven-Development-Kent-Beck/dp/0321146530) [great](https://www.amazon.com/Growing-Object-Oriented-Software-Guided-Tests/dp/0321503627) [resources](https://www.amazon.com/xUnit-Test-Patterns-Refactoring-Code/dp/0131495054) on how to test using xUnit which is great!\n",
    "\n",
    "But there is also the not great: xUnit has its roots in Java so PyUnit is verbose. Tests need to be [grouped into classes](https://docs.python.org/3/library/unittest.html#organizing-test-code), [special `assert*` methods](https://docs.python.org/3/library/unittest.html#assert-methods) are required for verification, and the object-oriented design of PyUnit results in [over-engineered tests](https://www.petrikainulainen.net/programming/unit-testing/3-reasons-why-we-should-not-use-inheritance-in-our-tests/).\n",
    "\n",
    "This is where [pytest](https://github.com/pytest-dev/pytest) shines. pytest gets out of our way so we can spend our time writing tests versus boilerplate code."
   ]
  },
  {
   "cell_type": "markdown",
   "metadata": {},
   "source": [
    "The benfits of pytest are most clearly seen in the implementation of [fixtures](https://docs.pytest.org/en/latest/fixture.html). Test fixtures allow us to [setup assumptions](https://en.wikipedia.org/wiki/Test_fixture#Software) for our system under test (SUT); this makes it possible to create reproducible results.\n",
    "\n",
    "Some examples of test fixtures include:\n",
    "* setting up a database to a preconfigured state\n",
    "* cleaning up a database after tests are run\n",
    "* capturing logging output\n",
    "* loading test data from a JSON file; great for testing webhooks!\n",
    "* initializing test objects\n",
    "\n",
    "In pytest, we use the [`@pytest.fixture` decorator](https://www.python.org/dev/peps/pep-0318/) to create fixtures. pytest will then [insert fixtures](https://docs.pytest.org/en/latest/fixture.html#fixtures-a-prime-example-of-dependency-injection) into our test function via [dependency injection](https://en.wikipedia.org/wiki/Dependency_injection).\n",
    "\n",
    "Below we see a simple example:\n",
    "\n",
    "```python\n",
    "# simple pytest fixture\n",
    "@pytest.fixture()\n",
    "def client():\n",
    "    return testing.TestClient(api)\n",
    "\n",
    "# -----------------------------------------\n",
    "\n",
    "# injecting fixture into test method\n",
    "def test_get_successful_response(client, mocker):\n",
    "    # Arrange\n",
    "    mock_datetime = mocker.patch.object(backend.cta, 'datetime')\n",
    "    mock_datetime.datetime.now.return_value = (\n",
    "        datetime.datetime(2017, 11, 14, 15, 56)\n",
    "    )\n",
    "\n",
    "    # Act\n",
    "    response = client.simulate_get('/stops/1066')\n",
    "\n",
    "    # Assert\n",
    "    upcoming_buses = response.json['result']\n",
    "    assert response.status == falcon.HTTP_200\n",
    "    assert len(upcoming_buses) == 4\n",
    "    assert upcoming_buses[0] == {'bus': '146', 'min_away': 3}\n",
    "    assert upcoming_buses[1] == {'bus': '151', 'min_away': 10}\n",
    "```\n",
    "\n",
    "Looks fairly Pythonic if I do say so myself!"
   ]
  },
  {
   "cell_type": "markdown",
   "metadata": {},
   "source": [
    "pytest fixtures are pretty awesome: they improve our tests by making code more modular and more readable. But that's not all! We can leverage the power of [first-class functions](https://en.wikipedia.org/wiki/First-class_function) and make fixtures even more flexible!\n",
    "\n",
    "In this post we will walkthrough an example of how to create a fixture that takes in function arguments."
   ]
  },
  {
   "cell_type": "markdown",
   "metadata": {},
   "source": [
    "As we discussed in [previous](/quick-hit-dictionary-dispatch.html) [episodes](/mocking-functions-inputs-args.html), Python functions are objects. This means we can:\n",
    "* assign functions to variables\n",
    "* store them as data structures\n",
    "* pass functions as arguments to other functions\n",
    "* return functions as values"
   ]
  },
  {
   "cell_type": "code",
   "execution_count": 1,
   "metadata": {
    "collapsed": true
   },
   "outputs": [],
   "source": [
    "# Let's create a function that takes every argument\n",
    "def foo(*args, **kwargs):\n",
    "    return (args, kwargs)"
   ]
  },
  {
   "cell_type": "code",
   "execution_count": 2,
   "metadata": {},
   "outputs": [
    {
     "data": {
      "text/plain": [
       "(('a', 'b'), {})"
      ]
     },
     "execution_count": 2,
     "metadata": {},
     "output_type": "execute_result"
    }
   ],
   "source": [
    "foo('a', 'b')"
   ]
  },
  {
   "cell_type": "code",
   "execution_count": 3,
   "metadata": {},
   "outputs": [
    {
     "data": {
      "text/plain": [
       "(('a',), {'b': 2, 'c': 'test'})"
      ]
     },
     "execution_count": 3,
     "metadata": {},
     "output_type": "execute_result"
    }
   ],
   "source": [
    "foo('a', b=2, c='test')"
   ]
  },
  {
   "cell_type": "markdown",
   "metadata": {},
   "source": [
    "The results are what we expect. We can read function arguments inside of our function! Exciting stuff!\n",
    "\n",
    "Now let's create a pytest fixture that replicates the behavior of `foo(...)`. To do this we will need to create a function inside of our fixture function and return it as follows:\n",
    "\n",
    "```python\n",
    "# test_example.py (1/2)\n",
    "\n",
    "import pytest\n",
    "\n",
    "@pytest.fixture()\n",
    "def argument_printer():\n",
    "    def _foo(*args, **kwargs):\n",
    "        return (args, kwargs)\n",
    "        \n",
    "    return _foo\n",
    "```\n",
    "\n",
    "Now everytime we inject `argument_printer` into a test method, it will refer to the `_foo(...)` function. Using this information, we can add arguments to our fixture as follows:\n",
    "\n",
    "```python\n",
    "# test_example.py (2/2)\n",
    "\n",
    "def test_example(argument_printer):\n",
    "    first_case = argument_printer('a', 'b')\n",
    "    assert first_case == (('a', 'b'), {})\n",
    "\n",
    "    second_case = argument_printer('a', b=2, c='test')\n",
    "    assert second_case == (('a',), {'b': 2, 'c': 'test'})\n",
    "```\n",
    "\n",
    "Running it thru the pytest-runner:\n",
    "\n",
    "```console\n",
    "$ pytest\n",
    "================================= test session starts ==================================\n",
    "platform darwin -- Python 3.6.2, pytest-3.3.1, py-1.5.2, pluggy-0.6.0\n",
    "rootdir: /Users/alysivji/Documents/siv-dev/projects/blog-notebooks, inifile:\n",
    "plugins: mock-1.6.3, ipynb-1.1.0, cov-2.5.1\n",
    "collected 56 items\n",
    "\n",
    "quick-hits/playground/025/example_test.py .                                      [100%]\n",
    "\n",
    "=============================== 1 passed in 0.01 seconds ===============================\n",
    "```\n",
    "\n",
    "Looks good!"
   ]
  },
  {
   "cell_type": "markdown",
   "metadata": {},
   "source": [
    "A good use case for having fixtures that take arguments is loading test data from a JSON file.\n",
    "\n",
    "This testing pattern comes in handy when we have to write tests around an API. We can load predefined data from text files and write assertions based on expected output as shown in the following example:\n",
    "\n",
    "```python\n",
    "import json\n",
    "import pytest\n",
    "\n",
    "@pytest.fixture\n",
    "def json_loader():\n",
    "    \"\"\"Loads data from JSON file\"\"\"\n",
    "\n",
    "    def _loader(filename):\n",
    "        with open(filename, 'r') as f:\n",
    "            print(filename)\n",
    "            data = json.load(f)\n",
    "        return data\n",
    "\n",
    "    return _loader\n",
    "\n",
    "\n",
    "def test_wrong_stop(client, mocker, json_loader):\n",
    "    # Arrange\n",
    "    get_mock = mocker.MagicMock()\n",
    "    get_mock.status_code = 200\n",
    "    get_mock.json.return_value = json_loader(\n",
    "        cta_error_incorrect_stop_response.json)\n",
    "    mocker.patch.object(\n",
    "        backend.cta.requests,\n",
    "        'get',\n",
    "        return_value=get_mock,\n",
    "    )\n",
    "\n",
    "    # Act\n",
    "    response = client.simulate_get('/stops/106')\n",
    "\n",
    "    # Assert\n",
    "    assert response.status == falcon.HTTP_200\n",
    "    assert response.json == {'error': 'stop_id: 106 does not exist'}\n",
    "```\n",
    "\n",
    "🙌  🙌  🙌\n",
    "\n",
    "Testing is easy once you have the right tools.\n",
    "\n",
    "Note: this example is adapted from the [sivmetric-backend repo](https://github.com/alysivji/sivmetrics-backend/tree/master/tests) on my Github."
   ]
  }
 ],
 "metadata": {
  "kernelspec": {
   "display_name": "Python 3",
   "language": "python",
   "name": "python3"
  },
  "language_info": {
   "codemirror_mode": {
    "name": "ipython",
    "version": 3
   },
   "file_extension": ".py",
   "mimetype": "text/x-python",
   "name": "python",
   "nbconvert_exporter": "python",
   "pygments_lexer": "ipython3",
   "version": "3.6.2"
  }
 },
 "nbformat": 4,
 "nbformat_minor": 2
}

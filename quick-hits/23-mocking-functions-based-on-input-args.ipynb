{
 "cells": [
  {
   "cell_type": "markdown",
   "metadata": {},
   "source": [
    "In Python, functions [are objects](https://docs.python.org/3/reference/datamodel.html). This means we can return them from other functions.\n",
    "\n",
    "In this [Quick Hit](/category/quick-hits.html), we will use this property of functions to mock out an external API with fake data that can be used to test our internal application logic.\n",
    "\n",
    "Note: I previously used Python functions to simulate the [behavior of a case statement](/quick-hit-dictionary-dispatch.html)."
   ]
  },
  {
   "cell_type": "markdown",
   "metadata": {},
   "source": [
    "---"
   ]
  },
  {
   "cell_type": "markdown",
   "metadata": {},
   "source": [
    "Imagine we have an external API we can use to download activity tracking data.\n",
    "\n",
    "This API, a simple wrapper around requests, has two endpoints: `/user/` and `/activity/`. Both take the parameter `{'user': user_id}`.\n",
    "\n",
    "We want to write a program that will produce a motivational message that tells the user how many miles they ran. This is fairly straightforward:\n",
    "\n",
    "```python\n",
    "# calc_stats.py\n",
    "\n",
    "import fitness_api\n",
    "\n",
    "\n",
    "def motivation_message(person_id):\n",
    "    user = fitness_api.get('/user/', params={'user': person_id})\n",
    "    name = user[0].get('name')\n",
    "\n",
    "    activities = fitness_api.get('/activity/', params={'user': person_id})\n",
    "    total_distance = 0\n",
    "    for activity in activities:\n",
    "        total_distance += activity.get('distance')\n",
    "\n",
    "    return f'{name} has run {total_distance} miles'\n",
    "   \n",
    "```\n",
    "\n",
    "How can we test this code? It has an external dependency on `fitness_api`.\n",
    "\n",
    "We'll follow [standing testing procedure](https://en.wikipedia.org/wiki/Mock_object) and [mock](https://docs.python.org/3/library/unittest.mock.html) the external API with test data. We can now compare the __result__ of the function with what we __expect__ our function to return.\n",
    "\n",
    "Wait a minute, `fitness_api.get()` returns different values based on input parameters. This makes things a bit more complicated. How can we write a mock that returns different values?\n",
    "\n",
    "We'll answer this question by exploring functions in a bit more depth:"
   ]
  },
  {
   "cell_type": "code",
   "execution_count": 1,
   "metadata": {
    "collapsed": true
   },
   "outputs": [],
   "source": [
    "# Let's create a function that takes every argument\n",
    "def foo(*args, **kwargs):\n",
    "    return (args, kwargs)"
   ]
  },
  {
   "cell_type": "code",
   "execution_count": 2,
   "metadata": {},
   "outputs": [
    {
     "data": {
      "text/plain": [
       "(('a', 'b'), {})"
      ]
     },
     "execution_count": 2,
     "metadata": {},
     "output_type": "execute_result"
    }
   ],
   "source": [
    "foo('a', 'b')"
   ]
  },
  {
   "cell_type": "code",
   "execution_count": 3,
   "metadata": {},
   "outputs": [
    {
     "data": {
      "text/plain": [
       "(('a',), {'b': 2, 'c': 'test'})"
      ]
     },
     "execution_count": 3,
     "metadata": {},
     "output_type": "execute_result"
    }
   ],
   "source": [
    "foo('a', b=2, c='test')"
   ]
  },
  {
   "cell_type": "code",
   "execution_count": 4,
   "metadata": {
    "collapsed": true
   },
   "outputs": [],
   "source": [
    "# Create a mock to return this function. Let's see what happens\n",
    "from unittest.mock import MagicMock"
   ]
  },
  {
   "cell_type": "code",
   "execution_count": 5,
   "metadata": {
    "collapsed": true
   },
   "outputs": [],
   "source": [
    "my_mock = MagicMock(name='main', return_value=foo)"
   ]
  },
  {
   "cell_type": "code",
   "execution_count": 6,
   "metadata": {},
   "outputs": [
    {
     "data": {
      "text/plain": [
       "<MagicMock name='main' id='4408396264'>"
      ]
     },
     "execution_count": 6,
     "metadata": {},
     "output_type": "execute_result"
    }
   ],
   "source": [
    "my_mock"
   ]
  },
  {
   "cell_type": "code",
   "execution_count": 7,
   "metadata": {
    "collapsed": true
   },
   "outputs": [],
   "source": [
    "func_from_mock = my_mock()"
   ]
  },
  {
   "cell_type": "code",
   "execution_count": 8,
   "metadata": {},
   "outputs": [
    {
     "data": {
      "text/plain": [
       "<function __main__.foo>"
      ]
     },
     "execution_count": 8,
     "metadata": {},
     "output_type": "execute_result"
    }
   ],
   "source": [
    "func_from_mock"
   ]
  },
  {
   "cell_type": "code",
   "execution_count": 9,
   "metadata": {},
   "outputs": [
    {
     "data": {
      "text/plain": [
       "((5, 5), {})"
      ]
     },
     "execution_count": 9,
     "metadata": {},
     "output_type": "execute_result"
    }
   ],
   "source": [
    "func_from_mock(5,5)"
   ]
  },
  {
   "cell_type": "code",
   "execution_count": 10,
   "metadata": {},
   "outputs": [
    {
     "data": {
      "text/plain": [
       "((5, 8), {'param': 5})"
      ]
     },
     "execution_count": 10,
     "metadata": {},
     "output_type": "execute_result"
    }
   ],
   "source": [
    "func_from_mock(5, 8, param=5)"
   ]
  },
  {
   "cell_type": "markdown",
   "metadata": {},
   "source": [
    "This is great! We can read positional and keyword arguments inside of our function.\n",
    "\n",
    "Lets create a function that returns test data given input arguments. We'll wrap this function in our mock which we then use to replace the external API. This technique is referred to as [monkeypatching](https://en.wikipedia.org/wiki/Monkey_patch).\n",
    "\n",
    "Aren't dynamic languages great?!\n",
    "\n",
    "\n",
    "```python\n",
    "# test_calc_stats.py\n",
    "\n",
    "import calc_stats\n",
    "\n",
    "user_data = [\n",
    "    { 'id': 1, 'name': 'Aly', 'email': 'alysivji@gmail.com'},\n",
    "]\n",
    "\n",
    "activity_data = [\n",
    "    { 'id': 65, 'description': 'morning jog', 'distance': 3.1 },\n",
    "    { 'id': 66, 'description': 'lunch break', 'distance': 1.2 },\n",
    "    { 'id': 67, 'description': 'weekend long run', 'distance': 6.2 },\n",
    "    { 'id': 68, 'description': 'night run', 'distance': 2.5 },\n",
    "]\n",
    "\n",
    "\n",
    "def load_data(endpoint, *args, **kwargs):\n",
    "    if 'user' in endpoint:\n",
    "        return user_data\n",
    "    elif 'activity' in endpoint:\n",
    "        return activity_data\n",
    "\n",
    "\n",
    "def test_motivation_message(mocker):\n",
    "    # Arrange\n",
    "    mock_api = mocker.MagicMock(name='api')\n",
    "    mock_api.get.side_effect = load_data\n",
    "    mocker.patch('calc_stats.fitness_api', new=mock_api)\n",
    "\n",
    "    # Act\n",
    "    result = calc_stats.motivation_message('alysivji@gmail.com')\n",
    "\n",
    "    # Assert\n",
    "    assert result == f'Aly has run {3.1 + 1.2 + 6.2 + 2.5} miles'\n",
    "   \n",
    "```\n",
    "\n",
    "Note: I'm using [pytest](https://docs.pytest.org/en/latest/) with the [pytest-mock](https://pypi.python.org/pypi/pytest-mock) extension.\n"
   ]
  },
  {
   "cell_type": "markdown",
   "metadata": {},
   "source": [
    "Running our tests:\n",
    "\n",
    "```console\n",
    "$ pytest\n",
    "================================= test session starts ==================================\n",
    "platform darwin -- Python 3.6.2, pytest-3.3.1, py-1.5.2, pluggy-0.6.0\n",
    "rootdir: /Users/alysivji/Documents/siv-dev/projects/blog-notebooks/quick-hits, inifile:\n",
    "plugins: mock-1.6.3, cov-2.5.1\n",
    "collected 1 item\n",
    "\n",
    "test_calc_stats.py .                                                             [100%]\n",
    "\n",
    "=============================== 1 passed in 0.01 seconds ===============================\n",
    "```"
   ]
  },
  {
   "cell_type": "markdown",
   "metadata": {},
   "source": [
    "🙌 🙌 🙌\n",
    "\n",
    "We can use this pattern to add tests to programs which use [requests](https://github.com/requests/requests) to pull data from an external API."
   ]
  }
 ],
 "metadata": {
  "kernelspec": {
   "display_name": "Python 3",
   "language": "python",
   "name": "python3"
  },
  "language_info": {
   "codemirror_mode": {
    "name": "ipython",
    "version": 3
   },
   "file_extension": ".py",
   "mimetype": "text/x-python",
   "name": "python",
   "nbconvert_exporter": "python",
   "pygments_lexer": "ipython3",
   "version": "3.6.2"
  }
 },
 "nbformat": 4,
 "nbformat_minor": 2
}

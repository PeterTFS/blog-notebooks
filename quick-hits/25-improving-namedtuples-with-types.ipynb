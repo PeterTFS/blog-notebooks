{
 "cells": [
  {
   "cell_type": "markdown",
   "metadata": {},
   "source": [
    "[Dynamic typing](https://en.wikipedia.org/wiki/Type_system#Dynamic_type_checking_and_runtime_type_information) refers to programs checking variable types at runtime versus compile time. By not having to define the variable type as we write code, we can work faster and take advantage of [duck typing](https://en.wikipedia.org/wiki/Duck_typing).\n",
    "\n",
    "On the other hand, we do miss out on some benefits that types bring. Similiar to how the principles of test-driven development force us to write smaller, more testable functions, thinking about types improves software design by making us cognizant of the values our variables hold as well as the values our functions can return.\n",
    "\n",
    "Fortunately for Python programmers, [PEP 484](https://www.python.org/dev/peps/pep-0484/) added optional type hints to the language. Type hints will not be enforced by the interpreter, but rather used by static code analyzers to enable features such as linting and code introspection.\n",
    "\n",
    "Optional type hints allow us to use all the dynamic capabilities of Python with the ability to be as formal as the situation requires."
   ]
  },
  {
   "cell_type": "markdown",
   "metadata": {},
   "source": [
    "Over the past few weeks I've been working my way through the [Advent of Code](http://adventofcode.com/2017) problem set. Having a lot of fun using parts of the [Python Standard Library](https://docs.python.org/3.6/library/index.html) I never get to use at work.\n",
    "\n",
    "This includes the [`typing`](https://docs.python.org/3/library/typing.html) module. I only started using it a couple of weeks ago, but it has definitely improved how I approach problem solving.\n",
    "\n",
    "Instead of blindly attacking each puzzle with a [\"God Method\"](http://wiki.c2.com/?GodMethod), I break the problem down into components that I can piece together into a working program.\n",
    "\n",
    "Type hints allow me to express my thinking more concretely. This is best demonstrated with an example:\n",
    "\n",
    "Brain: *This function should take a string, parse it with some regex, and return a list*\n",
    "\n",
    "```python\n",
    "from typings import List\n",
    "\n",
    "def parse_instructions(lines: str) -> List[Instruction]:\n",
    "    instructions = []\n",
    "\n",
    "    for line in lines.splitlines():\n",
    "        parts = INSTRUCTION_REGEX.search(line)\n",
    "\n",
    "        (register, op, amount, conditional_register,\n",
    "         conditional_op, conditional_amount) = parts.groups()\n",
    "\n",
    "        result = Instruction(register,\n",
    "                             '+' if op == 'inc' else '-',\n",
    "                             int(amount),\n",
    "                             conditional_register,\n",
    "                             conditional_op,\n",
    "                             int(conditional_amount))\n",
    "        instructions.append(result)\n",
    "\n",
    "    return instructions\n",
    "```\n",
    "\n",
    "With Type Hints, we can explicitly see the function takes in a `string` and returns a `list` of `Instruction` objects.\n",
    "\n",
    "Sure this information is also in the function and we can figure out what it does as we read each line, but self-documenting code increases readability with minimal work.\n",
    "\n",
    "One of my favourite features of the `typings` module is [`typings.NamedTuple`](https://docs.python.org/3/library/typing.html#typing.NamedTuple), a typed version of the [`collections.namedtuple`](https://docs.python.org/3/library/collections.html#collections.namedtuple) container type.\n",
    "\n",
    "In this post we will explore how we can use the typed form of namedtuples to make code more readable. As code is read a lot more than it is written, every little bit of improvement [counts](https://www.python.org/dev/peps/pep-0020/)!"
   ]
  },
  {
   "cell_type": "code",
   "execution_count": 1,
   "metadata": {
    "collapsed": true
   },
   "outputs": [],
   "source": [
    "# \"regular\" namedtuples\n",
    "from collections import namedtuple"
   ]
  },
  {
   "cell_type": "code",
   "execution_count": 2,
   "metadata": {
    "collapsed": true
   },
   "outputs": [],
   "source": [
    "# let's create an Employee object\n",
    "Employee = namedtuple('Employee',\n",
    "                      'name age title department job_description')"
   ]
  },
  {
   "cell_type": "code",
   "execution_count": 3,
   "metadata": {
    "collapsed": true
   },
   "outputs": [],
   "source": [
    "bob = Employee('Bob Smith', \n",
    "               35, \n",
    "               'Senior Software Engineer', \n",
    "               'Technology',\n",
    "               ['mentor junior developers',\n",
    "                'fix production issues',\n",
    "                'understand deployment pipeline'])"
   ]
  },
  {
   "cell_type": "code",
   "execution_count": 4,
   "metadata": {},
   "outputs": [
    {
     "data": {
      "text/plain": [
       "Employee(name='Bob Smith', age=35, title='Senior Software Engineer', department='Technology', job_description=['mentor junior developers', 'fix production issues', 'understand deployment pipeline'])"
      ]
     },
     "execution_count": 4,
     "metadata": {},
     "output_type": "execute_result"
    }
   ],
   "source": [
    "bob"
   ]
  },
  {
   "cell_type": "code",
   "execution_count": 5,
   "metadata": {},
   "outputs": [
    {
     "name": "stdout",
     "output_type": "stream",
     "text": [
      "Bob Smith\n",
      "<class 'str'>\n"
     ]
    }
   ],
   "source": [
    "attribute_to_examine = bob.name\n",
    "print(attribute_to_examine)\n",
    "print(type(attribute_to_examine))"
   ]
  },
  {
   "cell_type": "code",
   "execution_count": 6,
   "metadata": {},
   "outputs": [
    {
     "name": "stdout",
     "output_type": "stream",
     "text": [
      "35\n",
      "<class 'int'>\n"
     ]
    }
   ],
   "source": [
    "attribute_to_examine = bob.age\n",
    "print(attribute_to_examine)\n",
    "print(type(attribute_to_examine))"
   ]
  },
  {
   "cell_type": "code",
   "execution_count": 7,
   "metadata": {},
   "outputs": [
    {
     "name": "stdout",
     "output_type": "stream",
     "text": [
      "Senior Software Engineer\n",
      "<class 'str'>\n"
     ]
    }
   ],
   "source": [
    "attribute_to_examine = bob.title\n",
    "print(attribute_to_examine)\n",
    "print(type(attribute_to_examine))"
   ]
  },
  {
   "cell_type": "code",
   "execution_count": 8,
   "metadata": {},
   "outputs": [
    {
     "name": "stdout",
     "output_type": "stream",
     "text": [
      "Technology\n",
      "<class 'str'>\n"
     ]
    }
   ],
   "source": [
    "attribute_to_examine = bob.department\n",
    "print(attribute_to_examine)\n",
    "print(type(attribute_to_examine))"
   ]
  },
  {
   "cell_type": "code",
   "execution_count": 9,
   "metadata": {},
   "outputs": [
    {
     "name": "stdout",
     "output_type": "stream",
     "text": [
      "['mentor junior developers', 'fix production issues', 'understand deployment pipeline']\n",
      "<class 'list'>\n"
     ]
    }
   ],
   "source": [
    "attribute_to_examine = bob.job_description\n",
    "print(attribute_to_examine)\n",
    "print(type(attribute_to_examine))"
   ]
  },
  {
   "cell_type": "markdown",
   "metadata": {},
   "source": [
    "namedtuples are a great language feature as they allow our code to be more explicit about which field(s) we are working with."
   ]
  },
  {
   "cell_type": "code",
   "execution_count": 10,
   "metadata": {},
   "outputs": [
    {
     "name": "stdout",
     "output_type": "stream",
     "text": [
      "Bob Smith\n",
      "Bob Smith\n"
     ]
    }
   ],
   "source": [
    "print(bob[0])\n",
    "\n",
    "## versus\n",
    "\n",
    "print(bob.name)"
   ]
  },
  {
   "cell_type": "markdown",
   "metadata": {},
   "source": [
    "Using the `typing` module, we can be even more explicit about our data structures."
   ]
  },
  {
   "cell_type": "code",
   "execution_count": 11,
   "metadata": {
    "collapsed": true
   },
   "outputs": [],
   "source": [
    "from typing import List, NamedTuple"
   ]
  },
  {
   "cell_type": "code",
   "execution_count": 12,
   "metadata": {
    "collapsed": true
   },
   "outputs": [],
   "source": [
    "class EmployeeImproved(NamedTuple):\n",
    "    name: str\n",
    "    age: int\n",
    "    title: str\n",
    "    department: str\n",
    "    job_description: List"
   ]
  },
  {
   "cell_type": "code",
   "execution_count": 13,
   "metadata": {
    "collapsed": true
   },
   "outputs": [],
   "source": [
    "emma = EmployeeImproved('Emma Johnson',\n",
    "                        28,\n",
    "                        'Front-end Developer',\n",
    "                        'Technology',\n",
    "                        ['build React components',\n",
    "                         'test front-end using Selenium',\n",
    "                         'mentor junior developers'])"
   ]
  },
  {
   "cell_type": "code",
   "execution_count": 14,
   "metadata": {},
   "outputs": [
    {
     "data": {
      "text/plain": [
       "EmployeeImproved(name='Emma Johnson', age=28, title='Front-end Developer', department='Technology', job_description=['build React components', 'test front-end using Selenium', 'mentor junior developers'])"
      ]
     },
     "execution_count": 14,
     "metadata": {},
     "output_type": "execute_result"
    }
   ],
   "source": [
    "emma"
   ]
  },
  {
   "cell_type": "code",
   "execution_count": 15,
   "metadata": {},
   "outputs": [
    {
     "name": "stdout",
     "output_type": "stream",
     "text": [
      "Emma Johnson\n",
      "<class 'str'>\n"
     ]
    }
   ],
   "source": [
    "attribute_to_examine = emma.name\n",
    "print(attribute_to_examine)\n",
    "print(type(attribute_to_examine))"
   ]
  },
  {
   "cell_type": "code",
   "execution_count": 16,
   "metadata": {},
   "outputs": [
    {
     "name": "stdout",
     "output_type": "stream",
     "text": [
      "28\n",
      "<class 'int'>\n"
     ]
    }
   ],
   "source": [
    "attribute_to_examine = emma.age\n",
    "print(attribute_to_examine)\n",
    "print(type(attribute_to_examine))"
   ]
  },
  {
   "cell_type": "code",
   "execution_count": 17,
   "metadata": {},
   "outputs": [
    {
     "name": "stdout",
     "output_type": "stream",
     "text": [
      "Front-end Developer\n",
      "<class 'str'>\n"
     ]
    }
   ],
   "source": [
    "attribute_to_examine = emma.title\n",
    "print(attribute_to_examine)\n",
    "print(type(attribute_to_examine))"
   ]
  },
  {
   "cell_type": "code",
   "execution_count": 18,
   "metadata": {},
   "outputs": [
    {
     "name": "stdout",
     "output_type": "stream",
     "text": [
      "Technology\n",
      "<class 'str'>\n"
     ]
    }
   ],
   "source": [
    "attribute_to_examine = emma.department\n",
    "print(attribute_to_examine)\n",
    "print(type(attribute_to_examine))"
   ]
  },
  {
   "cell_type": "code",
   "execution_count": 19,
   "metadata": {},
   "outputs": [
    {
     "name": "stdout",
     "output_type": "stream",
     "text": [
      "['build React components', 'test front-end using Selenium', 'mentor junior developers']\n",
      "<class 'list'>\n"
     ]
    }
   ],
   "source": [
    "attribute_to_examine = emma.job_description\n",
    "print(attribute_to_examine)\n",
    "print(type(attribute_to_examine))"
   ]
  },
  {
   "cell_type": "code",
   "execution_count": 20,
   "metadata": {},
   "outputs": [
    {
     "data": {
      "text/plain": [
       "'Emma Johnson'"
      ]
     },
     "execution_count": 20,
     "metadata": {},
     "output_type": "execute_result"
    }
   ],
   "source": [
    "emma[0]"
   ]
  },
  {
   "cell_type": "markdown",
   "metadata": {},
   "source": [
    "Personally I find the typed version of `Employee` to be an improvement over the untyped version.\n",
    "\n",
    "I'm not saying we should all start using types or run our code thru [Mypy](http://mypy.readthedocs.io/en/latest/), but it's good to be aware of language features that can help reduce complexity and increase readability."
   ]
  }
 ],
 "metadata": {
  "kernelspec": {
   "display_name": "Python 3",
   "language": "python",
   "name": "python3"
  },
  "language_info": {
   "codemirror_mode": {
    "name": "ipython",
    "version": 3
   },
   "file_extension": ".py",
   "mimetype": "text/x-python",
   "name": "python",
   "nbconvert_exporter": "python",
   "pygments_lexer": "ipython3",
   "version": "3.6.2"
  }
 },
 "nbformat": 4,
 "nbformat_minor": 2
}

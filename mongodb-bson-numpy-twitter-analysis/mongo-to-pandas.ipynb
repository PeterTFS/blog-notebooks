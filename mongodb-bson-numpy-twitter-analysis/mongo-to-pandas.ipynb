{
 "cells": [
  {
   "cell_type": "markdown",
   "metadata": {},
   "source": [
    "In this post, I will describe how to use [BSON-NumPy](https://github.com/mongodb/bson-numpy/) to pull data out of [Mongo](https://www.mongodb.com/) and into [pandas](http://pandas.pydata.org/pandas-docs/stable/). While this library is still in the prototype stage, it's hard to to ignore the [10x](https://talkpython.fm/episodes/show/103/compiling-python-through-pyllvm-and-mongodb-for-data-scientists) speed improvement that comes from reading [BSON](https://en.wikipedia.org/wiki/BSON) documents directly into [NumPy](http://www.numpy.org/).\n",
    "\n",
    "For this example, I will be analyzing a collection of [my tweets](https://twitter.com/CaiusSivjus) stored in a MongoDB instance running on MLab.\n",
    "\n",
    "**Note**: BSON-Numpy is [under active development](https://github.com/mongodb/bson-numpy); API is subject to change."
   ]
  },
  {
   "cell_type": "markdown",
   "metadata": {},
   "source": [
    "---"
   ]
  },
  {
   "cell_type": "markdown",
   "metadata": {},
   "source": [
    "## What You Need to Follow Along\n",
    "\n",
    "### Development Tools (Stack)\n",
    "\n",
    "* [Python 3](https://www.python.org/downloads/)\n",
    "* [MongoDB](https://docs.mongodb.com/manual/installation/) (local or online instance)\n",
    "* [MongoDB C Driver](https://github.com/mongodb/mongo-c-driver)\n",
    "* [BSON-NumPy](http://bson-numpy.readthedocs.io/en/latest/#installing)\n",
    "* PyData stack ([Pandas](http://pandas.pydata.org/pandas-docs/stable/install.html), [matplotlib](http://matplotlib.org/users/installing.html), [seaborn](http://seaborn.pydata.org/installing.html))\n",
    "\n",
    "### Code\n",
    "* [Jupyter Notebook on Github](https://github.com/alysivji/blog-notebooks/tree/master/mongodb-bson-numpy-twitter-analysis)"
   ]
  },
  {
   "cell_type": "markdown",
   "metadata": {},
   "source": [
    "---"
   ]
  },
  {
   "cell_type": "markdown",
   "metadata": {},
   "source": [
    "## Setting up Environment"
   ]
  },
  {
   "cell_type": "code",
   "execution_count": 1,
   "metadata": {
    "collapsed": true
   },
   "outputs": [],
   "source": [
    "# standard library\n",
    "from collections import namedtuple\n",
    "import os\n",
    "\n",
    "# pydata\n",
    "import pandas as pd\n",
    "import matplotlib.pyplot as plt\n",
    "import seaborn as sns\n",
    "%matplotlib inline\n",
    "\n",
    "# bson-numpy libraries\n",
    "import numpy as np\n",
    "from bson import CodecOptions\n",
    "from bson.raw_bson import RawBSONDocument\n",
    "from pymongo import MongoClient\n",
    "import bsonnumpy\n",
    "\n",
    "# other libraries\n",
    "import maya"
   ]
  },
  {
   "cell_type": "code",
   "execution_count": 2,
   "metadata": {
    "collapsed": true
   },
   "outputs": [],
   "source": [
    "# get mongodb params from environment\n",
    "mlab_uri = os.getenv('MLAB_URI')\n",
    "mlab_collection = os.getenv('MLAB_COLLECTION')"
   ]
  },
  {
   "cell_type": "markdown",
   "metadata": {},
   "source": [
    "---"
   ]
  },
  {
   "cell_type": "markdown",
   "metadata": {},
   "source": [
    "## Overview of Data & Schema"
   ]
  },
  {
   "cell_type": "markdown",
   "metadata": {},
   "source": [
    "Twitter is a [microblogging](https://en.wikipedia.org/wiki/Microblogging) platform that allows users to post content, aka _tweets_, that are limited to 280 characters. There are two types of tweets: tweets you write (\"original tweets\") and tweets that other people write & you repost (\"retweets\").\n",
    "\n",
    "Every 12 hours, an AWS Lambda function goes out and downloads [my latest tweets](https://www.twitter.com/CaiusSivjus) and stores them in a Mongo collection. The script leverages the [Tweepy](tweepy.readthedocs.io) API wrapper, which does introduce some quirks to the process.\n",
    "\n",
    "Let's start off by looking at the data we have inside Mongo."
   ]
  },
  {
   "cell_type": "markdown",
   "metadata": {},
   "source": [
    "### Original Tweets\n",
    "\n",
    "Looks like we can capture the full text of the tweet from the appropriately named `full_text` field:\n",
    "\n",
    "<img src=\"/tree/images/21-30/22_original_tweet_schema.png\" alt=\"Schema for original tweet\" width=800 />"
   ]
  },
  {
   "cell_type": "markdown",
   "metadata": {},
   "source": [
    "### Retweets\n",
    "\n",
    "The `full_text` field is cut off, but it appears that the nested `retweeted_status.full_text` field has everything we are looking for.\n",
    "\n",
    "<img src=\"/tree/images/21-30/22_retweet_tweet_schema.png\" alt=\"Schema for rewtweet\" width=850 />"
   ]
  },
  {
   "cell_type": "markdown",
   "metadata": {},
   "source": [
    "There is currently no way of [handling varied documents](https://github.com/mongodb/bson-numpy/issues/40) using BSON-NumPy; we'll have to pull our data separately and combine it with pandas.\n",
    "\n",
    "We can use the [`$exists`](https://docs.mongodb.com/manual/reference/operator/query/exists/) operator in our [query](https://docs.mongodb.com/manual/reference/operator/query/) as follows:\n",
    "\n",
    "1. `.find({\"retweeted_status\": {\"$exists\": False}})`\n",
    "1. `.find({\"retweeted_status\": {\"$exists\": True}})`"
   ]
  },
  {
   "cell_type": "markdown",
   "metadata": {},
   "source": [
    "---"
   ]
  },
  {
   "cell_type": "markdown",
   "metadata": {},
   "source": [
    "## Downloading Data"
   ]
  },
  {
   "cell_type": "markdown",
   "metadata": {},
   "source": [
    "Set up the connection to Mongo:"
   ]
  },
  {
   "cell_type": "code",
   "execution_count": 3,
   "metadata": {
    "collapsed": true
   },
   "outputs": [],
   "source": [
    "codec_options=CodecOptions(document_class=RawBSONDocument)\n",
    "client = MongoClient(mlab_uri)\n",
    "db = client.get_default_database()\n",
    "collection = db.get_collection(\n",
    "    mlab_collection,\n",
    "    codec_options=codec_options\n",
    ")"
   ]
  },
  {
   "cell_type": "markdown",
   "metadata": {},
   "source": [
    "We'll have to define a [`np.dtype`](https://docs.scipy.org/doc/numpy/reference/generated/numpy.dtype.html#numpy.dtype) variable which specifies:\n",
    "* the fields to extract from Mongo\n",
    "* the NumPy types to convert to\n",
    "\n",
    "This variable has to match the structure of the MongoDB document. If we want to pull a nested field, we will need to define a variable with a nested structure."
   ]
  },
  {
   "cell_type": "markdown",
   "metadata": {},
   "source": [
    "### Original Tweets"
   ]
  },
  {
   "cell_type": "code",
   "execution_count": 4,
   "metadata": {
    "collapsed": true
   },
   "outputs": [],
   "source": [
    "dtype_original = np.dtype(\n",
    "    [\n",
    "        ('full_text', 'S400'),\n",
    "        ('created_at', 'S64'),\n",
    "    ]\n",
    ")"
   ]
  },
  {
   "cell_type": "code",
   "execution_count": 5,
   "metadata": {
    "collapsed": true
   },
   "outputs": [],
   "source": [
    "# query Mongo (using a generator expression)\n",
    "ndarray_original = bsonnumpy.sequence_to_ndarray(\n",
    "    (doc.raw for doc in collection.find({\"retweeted_status\": {\"$exists\": False}})), \n",
    "    dtype_original, \n",
    "    collection.count(),\n",
    ")"
   ]
  },
  {
   "cell_type": "code",
   "execution_count": 6,
   "metadata": {},
   "outputs": [
    {
     "name": "stdout",
     "output_type": "stream",
     "text": [
      "[ (b'Still. API keys in ipython notebooks! Yikes', b'Sat Dec 16 21:23:32 +0000 2017')\n",
      " (b'Fixing up a project I worked on in April 2016. Good job me for documenting sorta well', b'Sat Dec 16 21:22:47 +0000 2017')]\n"
     ]
    }
   ],
   "source": [
    "print(ndarray_original[:2])"
   ]
  },
  {
   "cell_type": "code",
   "execution_count": 7,
   "metadata": {
    "collapsed": true
   },
   "outputs": [],
   "source": [
    "tweets_original = pd.DataFrame(ndarray_original)"
   ]
  },
  {
   "cell_type": "code",
   "execution_count": 8,
   "metadata": {
    "collapsed": true
   },
   "outputs": [],
   "source": [
    "# convert bytes to string!\n",
    "tweets_original['full_text'] = tweets_original['full_text'].str.decode('utf-8')\n",
    "tweets_original['created_at'] = tweets_original['created_at'].str.decode('utf-8')"
   ]
  },
  {
   "cell_type": "code",
   "execution_count": 9,
   "metadata": {},
   "outputs": [
    {
     "data": {
      "text/html": [
       "<div>\n",
       "<style scoped>\n",
       "    .dataframe tbody tr th:only-of-type {\n",
       "        vertical-align: middle;\n",
       "    }\n",
       "\n",
       "    .dataframe tbody tr th {\n",
       "        vertical-align: top;\n",
       "    }\n",
       "\n",
       "    .dataframe thead th {\n",
       "        text-align: right;\n",
       "    }\n",
       "</style>\n",
       "<table border=\"1\" class=\"dataframe\">\n",
       "  <thead>\n",
       "    <tr style=\"text-align: right;\">\n",
       "      <th></th>\n",
       "      <th>full_text</th>\n",
       "      <th>created_at</th>\n",
       "    </tr>\n",
       "  </thead>\n",
       "  <tbody>\n",
       "    <tr>\n",
       "      <th>0</th>\n",
       "      <td>Still. API keys in ipython notebooks! Yikes</td>\n",
       "      <td>Sat Dec 16 21:23:32 +0000 2017</td>\n",
       "    </tr>\n",
       "    <tr>\n",
       "      <th>1</th>\n",
       "      <td>Fixing up a project I worked on in April 2016....</td>\n",
       "      <td>Sat Dec 16 21:22:47 +0000 2017</td>\n",
       "    </tr>\n",
       "    <tr>\n",
       "      <th>2</th>\n",
       "      <td>https://t.co/6Ubtx6S1O8\\n#bookmark</td>\n",
       "      <td>Sat Dec 16 20:45:00 +0000 2017</td>\n",
       "    </tr>\n",
       "    <tr>\n",
       "      <th>3</th>\n",
       "      <td>VSCode November release \\nhttps://t.co/U4nzPLE8QI</td>\n",
       "      <td>Sat Dec 16 20:23:18 +0000 2017</td>\n",
       "    </tr>\n",
       "    <tr>\n",
       "      <th>4</th>\n",
       "      <td>@TooManyNickLees It does for this project I'm ...</td>\n",
       "      <td>Sat Dec 16 20:08:26 +0000 2017</td>\n",
       "    </tr>\n",
       "  </tbody>\n",
       "</table>\n",
       "</div>"
      ],
      "text/plain": [
       "                                           full_text  \\\n",
       "0        Still. API keys in ipython notebooks! Yikes   \n",
       "1  Fixing up a project I worked on in April 2016....   \n",
       "2                 https://t.co/6Ubtx6S1O8\\n#bookmark   \n",
       "3  VSCode November release \\nhttps://t.co/U4nzPLE8QI   \n",
       "4  @TooManyNickLees It does for this project I'm ...   \n",
       "\n",
       "                       created_at  \n",
       "0  Sat Dec 16 21:23:32 +0000 2017  \n",
       "1  Sat Dec 16 21:22:47 +0000 2017  \n",
       "2  Sat Dec 16 20:45:00 +0000 2017  \n",
       "3  Sat Dec 16 20:23:18 +0000 2017  \n",
       "4  Sat Dec 16 20:08:26 +0000 2017  "
      ]
     },
     "execution_count": 9,
     "metadata": {},
     "output_type": "execute_result"
    }
   ],
   "source": [
    "tweets_original.head()"
   ]
  },
  {
   "cell_type": "markdown",
   "metadata": {},
   "source": [
    "### Retweets"
   ]
  },
  {
   "cell_type": "code",
   "execution_count": 10,
   "metadata": {
    "collapsed": true
   },
   "outputs": [],
   "source": [
    "dtype_rt = np.dtype(\n",
    "    [\n",
    "        ('retweeted_status', np.dtype([('full_text', 'S400')])),\n",
    "        ('created_at', 'S64'),\n",
    "    ]\n",
    ")"
   ]
  },
  {
   "cell_type": "code",
   "execution_count": 11,
   "metadata": {
    "collapsed": true
   },
   "outputs": [],
   "source": [
    "ndarray_rt = bsonnumpy.sequence_to_ndarray(\n",
    "    (doc.raw for doc in collection.find({\"retweeted_status\": {\"$exists\": True}})), \n",
    "    dtype_rt, \n",
    "    collection.count(),\n",
    ")"
   ]
  },
  {
   "cell_type": "code",
   "execution_count": 12,
   "metadata": {
    "collapsed": true
   },
   "outputs": [],
   "source": [
    "tweets_rt = pd.DataFrame(ndarray_rt)"
   ]
  },
  {
   "cell_type": "code",
   "execution_count": 13,
   "metadata": {
    "collapsed": true
   },
   "outputs": [],
   "source": [
    "tweets_rt['full_text'] = tweets_rt['retweeted_status'].map(lambda value: value[0].decode('utf-8'))\n",
    "tweets_rt['created_at'] = tweets_rt['created_at'].str.decode('utf-8')"
   ]
  },
  {
   "cell_type": "code",
   "execution_count": 14,
   "metadata": {},
   "outputs": [
    {
     "data": {
      "text/html": [
       "<div>\n",
       "<style scoped>\n",
       "    .dataframe tbody tr th:only-of-type {\n",
       "        vertical-align: middle;\n",
       "    }\n",
       "\n",
       "    .dataframe tbody tr th {\n",
       "        vertical-align: top;\n",
       "    }\n",
       "\n",
       "    .dataframe thead th {\n",
       "        text-align: right;\n",
       "    }\n",
       "</style>\n",
       "<table border=\"1\" class=\"dataframe\">\n",
       "  <thead>\n",
       "    <tr style=\"text-align: right;\">\n",
       "      <th></th>\n",
       "      <th>retweeted_status</th>\n",
       "      <th>created_at</th>\n",
       "      <th>full_text</th>\n",
       "    </tr>\n",
       "  </thead>\n",
       "  <tbody>\n",
       "    <tr>\n",
       "      <th>0</th>\n",
       "      <td>(b'A list of things that might be useful when ...</td>\n",
       "      <td>Sat Dec 16 20:29:52 +0000 2017</td>\n",
       "      <td>A list of things that might be useful when ans...</td>\n",
       "    </tr>\n",
       "    <tr>\n",
       "      <th>1</th>\n",
       "      <td>(b'OUT: import pdb; pdb.set_trace()\\nIN: break...</td>\n",
       "      <td>Sat Dec 16 20:08:52 +0000 2017</td>\n",
       "      <td>OUT: import pdb; pdb.set_trace()\\nIN: breakpoi...</td>\n",
       "    </tr>\n",
       "    <tr>\n",
       "      <th>2</th>\n",
       "      <td>(b'Great news, Guido has pronounced dicts to r...</td>\n",
       "      <td>Sat Dec 16 16:46:55 +0000 2017</td>\n",
       "      <td>Great news, Guido has pronounced dicts to reta...</td>\n",
       "    </tr>\n",
       "    <tr>\n",
       "      <th>3</th>\n",
       "      <td>(b'First ever PyCon happening in Pakistan http...</td>\n",
       "      <td>Sat Dec 16 13:46:57 +0000 2017</td>\n",
       "      <td>First ever PyCon happening in Pakistan https:/...</td>\n",
       "    </tr>\n",
       "    <tr>\n",
       "      <th>4</th>\n",
       "      <td>(b'#python news:  \\xf0\\x9f\\x98\\x80 @gvanrossum...</td>\n",
       "      <td>Sat Dec 16 05:14:45 +0000 2017</td>\n",
       "      <td>#python news:  😀 @gvanrossum just pronounced t...</td>\n",
       "    </tr>\n",
       "  </tbody>\n",
       "</table>\n",
       "</div>"
      ],
      "text/plain": [
       "                                    retweeted_status  \\\n",
       "0  (b'A list of things that might be useful when ...   \n",
       "1  (b'OUT: import pdb; pdb.set_trace()\\nIN: break...   \n",
       "2  (b'Great news, Guido has pronounced dicts to r...   \n",
       "3  (b'First ever PyCon happening in Pakistan http...   \n",
       "4  (b'#python news:  \\xf0\\x9f\\x98\\x80 @gvanrossum...   \n",
       "\n",
       "                       created_at  \\\n",
       "0  Sat Dec 16 20:29:52 +0000 2017   \n",
       "1  Sat Dec 16 20:08:52 +0000 2017   \n",
       "2  Sat Dec 16 16:46:55 +0000 2017   \n",
       "3  Sat Dec 16 13:46:57 +0000 2017   \n",
       "4  Sat Dec 16 05:14:45 +0000 2017   \n",
       "\n",
       "                                           full_text  \n",
       "0  A list of things that might be useful when ans...  \n",
       "1  OUT: import pdb; pdb.set_trace()\\nIN: breakpoi...  \n",
       "2  Great news, Guido has pronounced dicts to reta...  \n",
       "3  First ever PyCon happening in Pakistan https:/...  \n",
       "4  #python news:  😀 @gvanrossum just pronounced t...  "
      ]
     },
     "execution_count": 14,
     "metadata": {},
     "output_type": "execute_result"
    }
   ],
   "source": [
    "tweets_rt.head()"
   ]
  },
  {
   "cell_type": "markdown",
   "metadata": {},
   "source": [
    "---"
   ]
  },
  {
   "cell_type": "markdown",
   "metadata": {},
   "source": [
    "## Combine Datasets"
   ]
  },
  {
   "cell_type": "code",
   "execution_count": 15,
   "metadata": {},
   "outputs": [
    {
     "data": {
      "text/plain": [
       "2611"
      ]
     },
     "execution_count": 15,
     "metadata": {},
     "output_type": "execute_result"
    }
   ],
   "source": [
    "len(tweets_original) + len(tweets_rt)"
   ]
  },
  {
   "cell_type": "code",
   "execution_count": 16,
   "metadata": {
    "collapsed": true
   },
   "outputs": [],
   "source": [
    "tweets = pd.concat([tweets_rt, tweets_original])"
   ]
  },
  {
   "cell_type": "code",
   "execution_count": 17,
   "metadata": {},
   "outputs": [
    {
     "data": {
      "text/plain": [
       "2611"
      ]
     },
     "execution_count": 17,
     "metadata": {},
     "output_type": "execute_result"
    }
   ],
   "source": [
    "len(tweets)"
   ]
  },
  {
   "cell_type": "code",
   "execution_count": 18,
   "metadata": {
    "collapsed": true
   },
   "outputs": [],
   "source": [
    "tweets['retweeted'] = tweets['retweeted_status'].notna()\n",
    "tweets = tweets.drop(columns=['retweeted_status'])"
   ]
  },
  {
   "cell_type": "code",
   "execution_count": 19,
   "metadata": {},
   "outputs": [
    {
     "data": {
      "text/html": [
       "<div>\n",
       "<style scoped>\n",
       "    .dataframe tbody tr th:only-of-type {\n",
       "        vertical-align: middle;\n",
       "    }\n",
       "\n",
       "    .dataframe tbody tr th {\n",
       "        vertical-align: top;\n",
       "    }\n",
       "\n",
       "    .dataframe thead th {\n",
       "        text-align: right;\n",
       "    }\n",
       "</style>\n",
       "<table border=\"1\" class=\"dataframe\">\n",
       "  <thead>\n",
       "    <tr style=\"text-align: right;\">\n",
       "      <th></th>\n",
       "      <th>created_at</th>\n",
       "      <th>full_text</th>\n",
       "      <th>retweeted</th>\n",
       "    </tr>\n",
       "  </thead>\n",
       "  <tbody>\n",
       "    <tr>\n",
       "      <th>count</th>\n",
       "      <td>2611</td>\n",
       "      <td>2611</td>\n",
       "      <td>2611</td>\n",
       "    </tr>\n",
       "    <tr>\n",
       "      <th>unique</th>\n",
       "      <td>2611</td>\n",
       "      <td>2604</td>\n",
       "      <td>2</td>\n",
       "    </tr>\n",
       "    <tr>\n",
       "      <th>top</th>\n",
       "      <td>Mon May 22 01:46:23 +0000 2017</td>\n",
       "      <td>How I Git\\n{author: @amention }\\nhttps://t.co/...</td>\n",
       "      <td>False</td>\n",
       "    </tr>\n",
       "    <tr>\n",
       "      <th>freq</th>\n",
       "      <td>1</td>\n",
       "      <td>2</td>\n",
       "      <td>1595</td>\n",
       "    </tr>\n",
       "  </tbody>\n",
       "</table>\n",
       "</div>"
      ],
      "text/plain": [
       "                            created_at  \\\n",
       "count                             2611   \n",
       "unique                            2611   \n",
       "top     Mon May 22 01:46:23 +0000 2017   \n",
       "freq                                 1   \n",
       "\n",
       "                                                full_text retweeted  \n",
       "count                                                2611      2611  \n",
       "unique                                               2604         2  \n",
       "top     How I Git\\n{author: @amention }\\nhttps://t.co/...     False  \n",
       "freq                                                    2      1595  "
      ]
     },
     "execution_count": 19,
     "metadata": {},
     "output_type": "execute_result"
    }
   ],
   "source": [
    "tweets.describe(include='all')"
   ]
  },
  {
   "cell_type": "markdown",
   "metadata": {},
   "source": [
    "### Add Additional Information to Data\n",
    "\n",
    "* Parse datatime and convert to correct timezone (assumption: most of my tweets were made around Chicago)\n",
    "* Add tweet character count "
   ]
  },
  {
   "cell_type": "code",
   "execution_count": 20,
   "metadata": {
    "collapsed": true
   },
   "outputs": [],
   "source": [
    "ConvertTZArgs = namedtuple(\"ConvertTZArgs\", [\"dt_col\", \"to_timezone\"])\n",
    "\n",
    "def convert_timezone(row, *args):\n",
    "    # get datetime\n",
    "    dt_col = args[0].dt_col\n",
    "    to_timezone = args[0].to_timezone\n",
    "    dt = row[dt_col]\n",
    "    \n",
    "    dt = maya.parse(dt).datetime(to_timezone=to_timezone)\n",
    "    return dt"
   ]
  },
  {
   "cell_type": "code",
   "execution_count": 21,
   "metadata": {
    "collapsed": true
   },
   "outputs": [],
   "source": [
    "tweets['created_at'] = tweets.apply(\n",
    "    convert_timezone,\n",
    "    axis=1, \n",
    "    args=(ConvertTZArgs('created_at', 'US/Central'),)\n",
    ")"
   ]
  },
  {
   "cell_type": "code",
   "execution_count": 22,
   "metadata": {
    "collapsed": true
   },
   "outputs": [],
   "source": [
    "tweets['chars'] = tweets['full_text'].str.len()"
   ]
  },
  {
   "cell_type": "code",
   "execution_count": 23,
   "metadata": {},
   "outputs": [
    {
     "data": {
      "text/html": [
       "<div>\n",
       "<style scoped>\n",
       "    .dataframe tbody tr th:only-of-type {\n",
       "        vertical-align: middle;\n",
       "    }\n",
       "\n",
       "    .dataframe tbody tr th {\n",
       "        vertical-align: top;\n",
       "    }\n",
       "\n",
       "    .dataframe thead th {\n",
       "        text-align: right;\n",
       "    }\n",
       "</style>\n",
       "<table border=\"1\" class=\"dataframe\">\n",
       "  <thead>\n",
       "    <tr style=\"text-align: right;\">\n",
       "      <th></th>\n",
       "      <th>created_at</th>\n",
       "      <th>full_text</th>\n",
       "      <th>retweeted</th>\n",
       "      <th>chars</th>\n",
       "    </tr>\n",
       "  </thead>\n",
       "  <tbody>\n",
       "    <tr>\n",
       "      <th>0</th>\n",
       "      <td>2017-12-16 14:29:52-06:00</td>\n",
       "      <td>A list of things that might be useful when ans...</td>\n",
       "      <td>True</td>\n",
       "      <td>166</td>\n",
       "    </tr>\n",
       "    <tr>\n",
       "      <th>1</th>\n",
       "      <td>2017-12-16 14:08:52-06:00</td>\n",
       "      <td>OUT: import pdb; pdb.set_trace()\\nIN: breakpoi...</td>\n",
       "      <td>True</td>\n",
       "      <td>90</td>\n",
       "    </tr>\n",
       "    <tr>\n",
       "      <th>2</th>\n",
       "      <td>2017-12-16 10:46:55-06:00</td>\n",
       "      <td>Great news, Guido has pronounced dicts to reta...</td>\n",
       "      <td>True</td>\n",
       "      <td>246</td>\n",
       "    </tr>\n",
       "    <tr>\n",
       "      <th>3</th>\n",
       "      <td>2017-12-16 07:46:57-06:00</td>\n",
       "      <td>First ever PyCon happening in Pakistan https:/...</td>\n",
       "      <td>True</td>\n",
       "      <td>62</td>\n",
       "    </tr>\n",
       "    <tr>\n",
       "      <th>4</th>\n",
       "      <td>2017-12-15 23:14:45-06:00</td>\n",
       "      <td>#python news:  😀 @gvanrossum just pronounced t...</td>\n",
       "      <td>True</td>\n",
       "      <td>137</td>\n",
       "    </tr>\n",
       "  </tbody>\n",
       "</table>\n",
       "</div>"
      ],
      "text/plain": [
       "                 created_at  \\\n",
       "0 2017-12-16 14:29:52-06:00   \n",
       "1 2017-12-16 14:08:52-06:00   \n",
       "2 2017-12-16 10:46:55-06:00   \n",
       "3 2017-12-16 07:46:57-06:00   \n",
       "4 2017-12-15 23:14:45-06:00   \n",
       "\n",
       "                                           full_text  retweeted  chars  \n",
       "0  A list of things that might be useful when ans...       True    166  \n",
       "1  OUT: import pdb; pdb.set_trace()\\nIN: breakpoi...       True     90  \n",
       "2  Great news, Guido has pronounced dicts to reta...       True    246  \n",
       "3  First ever PyCon happening in Pakistan https:/...       True     62  \n",
       "4  #python news:  😀 @gvanrossum just pronounced t...       True    137  "
      ]
     },
     "execution_count": 23,
     "metadata": {},
     "output_type": "execute_result"
    }
   ],
   "source": [
    "tweets.head()"
   ]
  },
  {
   "cell_type": "markdown",
   "metadata": {},
   "source": [
    "---"
   ]
  },
  {
   "cell_type": "markdown",
   "metadata": {},
   "source": [
    "## Explore and Analyze Data"
   ]
  },
  {
   "cell_type": "code",
   "execution_count": 24,
   "metadata": {},
   "outputs": [
    {
     "data": {
      "text/plain": [
       "False    1595\n",
       "True     1016\n",
       "Name: retweeted, dtype: int64"
      ]
     },
     "execution_count": 24,
     "metadata": {},
     "output_type": "execute_result"
    }
   ],
   "source": [
    "tweets['retweeted'].value_counts()"
   ]
  },
  {
   "cell_type": "markdown",
   "metadata": {
    "collapsed": true
   },
   "source": [
    "### Investigating Number of Characters"
   ]
  },
  {
   "cell_type": "code",
   "execution_count": 25,
   "metadata": {},
   "outputs": [
    {
     "data": {
      "text/plain": [
       "<seaborn.axisgrid.FacetGrid at 0x107bdd5f8>"
      ]
     },
     "execution_count": 25,
     "metadata": {},
     "output_type": "execute_result"
    },
    {
     "data": {
      "image/png": "[encoded data removed]",
      "text/plain": [
       "<matplotlib.figure.Figure at 0x107bdd710>"
      ]
     },
     "metadata": {},
     "output_type": "display_data"
    }
   ],
   "source": [
    "g = sns.FacetGrid(\n",
    "    tweets,\n",
    "    col=\"retweeted\",\n",
    "    margin_titles=True,\n",
    "    size=6,\n",
    ")\n",
    "\n",
    "g.map(\n",
    "    plt.hist,\n",
    "    \"chars\",\n",
    "    bins=20,\n",
    "    color=\"steelblue\",\n",
    "    lw=0,\n",
    ")"
   ]
  },
  {
   "cell_type": "code",
   "execution_count": 26,
   "metadata": {},
   "outputs": [
    {
     "data": {
      "text/plain": [
       "count    1595.000000\n",
       "mean       93.228840\n",
       "std        35.649305\n",
       "min         2.000000\n",
       "25%        67.000000\n",
       "50%        95.000000\n",
       "75%       122.000000\n",
       "max       280.000000\n",
       "Name: chars, dtype: float64"
      ]
     },
     "execution_count": 26,
     "metadata": {},
     "output_type": "execute_result"
    }
   ],
   "source": [
    "tweets[tweets['retweeted'] == 0]['chars'].describe()"
   ]
  },
  {
   "cell_type": "code",
   "execution_count": 27,
   "metadata": {},
   "outputs": [
    {
     "data": {
      "text/plain": [
       "count    1016.000000\n",
       "mean      112.819882\n",
       "std        38.045216\n",
       "min        19.000000\n",
       "25%        85.000000\n",
       "50%       115.000000\n",
       "75%       137.000000\n",
       "max       299.000000\n",
       "Name: chars, dtype: float64"
      ]
     },
     "execution_count": 27,
     "metadata": {},
     "output_type": "execute_result"
    }
   ],
   "source": [
    "tweets[tweets['retweeted'] == 1]['chars'].describe()"
   ]
  },
  {
   "cell_type": "markdown",
   "metadata": {
    "collapsed": true
   },
   "source": [
    "### Examining Time Between Posts"
   ]
  },
  {
   "cell_type": "code",
   "execution_count": 28,
   "metadata": {
    "collapsed": true
   },
   "outputs": [],
   "source": [
    "# creating function\n",
    "def time_between(times):\n",
    "    sorted_times = times.sort_values()\n",
    "    time_between = sorted_times - sorted_times.shift(1)\n",
    "    return time_between"
   ]
  },
  {
   "cell_type": "code",
   "execution_count": 29,
   "metadata": {
    "collapsed": true
   },
   "outputs": [],
   "source": [
    "def to_seconds(time):\n",
    "    return time / np.timedelta64(1, 's')"
   ]
  },
  {
   "cell_type": "markdown",
   "metadata": {},
   "source": [
    "#### Original Tweets"
   ]
  },
  {
   "cell_type": "code",
   "execution_count": 30,
   "metadata": {
    "collapsed": true
   },
   "outputs": [],
   "source": [
    "between_my_posts = time_between(tweets[tweets['retweeted'] == 0]['created_at'])"
   ]
  },
  {
   "cell_type": "code",
   "execution_count": 31,
   "metadata": {},
   "outputs": [
    {
     "data": {
      "text/plain": [
       "count                      1594\n",
       "mean     1 days 03:26:02.309912\n",
       "std      2 days 10:13:51.045480\n",
       "min             0 days 00:00:08\n",
       "25%      0 days 01:50:48.500000\n",
       "50%      0 days 08:17:50.500000\n",
       "75%      1 days 00:33:25.500000\n",
       "max            31 days 21:24:50\n",
       "Name: created_at, dtype: object"
      ]
     },
     "execution_count": 31,
     "metadata": {},
     "output_type": "execute_result"
    }
   ],
   "source": [
    "between_my_posts.describe()"
   ]
  },
  {
   "cell_type": "code",
   "execution_count": 32,
   "metadata": {},
   "outputs": [
    {
     "data": {
      "text/plain": [
       "<matplotlib.axes._subplots.AxesSubplot at 0x107c63470>"
      ]
     },
     "execution_count": 32,
     "metadata": {},
     "output_type": "execute_result"
    },
    {
     "data": {
      "image/png": "[encoded data removed]",
      "text/plain": [
       "<matplotlib.figure.Figure at 0x107eff9e8>"
      ]
     },
     "metadata": {},
     "output_type": "display_data"
    }
   ],
   "source": [
    "to_seconds(between_my_posts).plot(\n",
    "    kind='hist',\n",
    "    range=(0, 100_000)\n",
    ")"
   ]
  },
  {
   "cell_type": "markdown",
   "metadata": {
    "collapsed": true
   },
   "source": [
    "#### All Tweets (Original Tweets + Retweets)"
   ]
  },
  {
   "cell_type": "code",
   "execution_count": 33,
   "metadata": {
    "collapsed": true
   },
   "outputs": [],
   "source": [
    "between_all_posts = time_between(tweets['created_at'])"
   ]
  },
  {
   "cell_type": "code",
   "execution_count": 34,
   "metadata": {},
   "outputs": [
    {
     "data": {
      "text/plain": [
       "count                      2610\n",
       "mean     0 days 16:45:16.904980\n",
       "std      1 days 17:19:51.559515\n",
       "min             0 days 00:00:03\n",
       "25%      0 days 00:43:58.750000\n",
       "50%             0 days 03:09:13\n",
       "75%             0 days 13:47:39\n",
       "max            26 days 03:23:07\n",
       "Name: created_at, dtype: object"
      ]
     },
     "execution_count": 34,
     "metadata": {},
     "output_type": "execute_result"
    }
   ],
   "source": [
    "between_all_posts.describe()"
   ]
  },
  {
   "cell_type": "code",
   "execution_count": 35,
   "metadata": {},
   "outputs": [
    {
     "data": {
      "text/plain": [
       "<matplotlib.axes._subplots.AxesSubplot at 0x108277390>"
      ]
     },
     "execution_count": 35,
     "metadata": {},
     "output_type": "execute_result"
    },
    {
     "data": {
      "image/png": "[encoded data removed]",
      "text/plain": [
       "<matplotlib.figure.Figure at 0x10823ff98>"
      ]
     },
     "metadata": {},
     "output_type": "display_data"
    }
   ],
   "source": [
    "to_seconds(between_all_posts).plot(\n",
    "    kind='hist',\n",
    "    range=(0, 100_000)\n",
    ")"
   ]
  },
  {
   "cell_type": "markdown",
   "metadata": {},
   "source": [
    "### Twitter Activity Heatmap\n",
    "\n",
    "What time of the week am I most activate on Twitter? We'll use [`seaborn.heatmap`](https://seaborn.pydata.org/generated/seaborn.heatmap.html) to explore this in more detail."
   ]
  },
  {
   "cell_type": "code",
   "execution_count": 36,
   "metadata": {
    "collapsed": true
   },
   "outputs": [],
   "source": [
    "tweets['hour'] = tweets['created_at'].dt.hour\n",
    "tweets['day_of_week'] = tweets['created_at'].dt.dayofweek\n",
    "days_of_week = ['Sunday', 'Monday', 'Tuesday', 'Wednesday', 'Thursday', 'Friday', 'Saturday']"
   ]
  },
  {
   "cell_type": "markdown",
   "metadata": {},
   "source": [
    "#### All Tweets (Original Tweets + Retweets)"
   ]
  },
  {
   "cell_type": "code",
   "execution_count": 37,
   "metadata": {
    "collapsed": true
   },
   "outputs": [],
   "source": [
    "tweets_timeline = tweets.groupby(by=['hour', 'day_of_week'])['full_text'].count()"
   ]
  },
  {
   "cell_type": "code",
   "execution_count": 38,
   "metadata": {},
   "outputs": [
    {
     "data": {
      "image/png": "[encoded data removed]",
      "text/plain": [
       "<matplotlib.figure.Figure at 0x1082cb128>"
      ]
     },
     "metadata": {},
     "output_type": "display_data"
    }
   ],
   "source": [
    "plt.figure(figsize=(15, 15))\n",
    "ax = (sns.heatmap(tweets_timeline.unstack(),\n",
    "                  cmap='Blues',\n",
    "                  xticklabels=days_of_week))\n",
    "\n",
    "for label in (ax.get_xticklabels() + ax.get_yticklabels()):\n",
    "    label.set_fontsize(20)"
   ]
  },
  {
   "cell_type": "markdown",
   "metadata": {},
   "source": [
    "#### Original Tweets"
   ]
  },
  {
   "cell_type": "code",
   "execution_count": 39,
   "metadata": {
    "collapsed": true
   },
   "outputs": [],
   "source": [
    "tweets_timeline = tweets[tweets['retweeted'] == 0].groupby(by=['hour', 'day_of_week'])['full_text'].count()"
   ]
  },
  {
   "cell_type": "code",
   "execution_count": 40,
   "metadata": {},
   "outputs": [
    {
     "data": {
      "image/png": "[encoded data removed]",
      "text/plain": [
       "<matplotlib.figure.Figure at 0x108b8fe10>"
      ]
     },
     "metadata": {},
     "output_type": "display_data"
    }
   ],
   "source": [
    "plt.figure(figsize=(15, 15))\n",
    "ax = (sns.heatmap(tweets_timeline.unstack(),\n",
    "                  cmap='Blues',\n",
    "                  xticklabels=days_of_week))\n",
    "\n",
    "for label in (ax.get_xticklabels() + ax.get_yticklabels()):\n",
    "    label.set_fontsize(20)"
   ]
  },
  {
   "cell_type": "markdown",
   "metadata": {},
   "source": [
    "### Retweets"
   ]
  },
  {
   "cell_type": "code",
   "execution_count": 41,
   "metadata": {
    "collapsed": true
   },
   "outputs": [],
   "source": [
    "tweets_timeline = tweets[tweets['retweeted'] == 1].groupby(by=['hour', 'day_of_week'])['full_text'].count()"
   ]
  },
  {
   "cell_type": "code",
   "execution_count": 42,
   "metadata": {},
   "outputs": [
    {
     "data": {
      "image/png": "[encoded data removed]",
      "text/plain": [
       "<matplotlib.figure.Figure at 0x108cd1c50>"
      ]
     },
     "metadata": {},
     "output_type": "display_data"
    }
   ],
   "source": [
    "plt.figure(figsize=(15, 15))\n",
    "ax = (sns.heatmap(tweets_timeline.unstack(),\n",
    "                  cmap='Blues',\n",
    "                  xticklabels=days_of_week))\n",
    "\n",
    "for label in (ax.get_xticklabels() + ax.get_yticklabels()):\n",
    "    label.set_fontsize(20)"
   ]
  },
  {
   "cell_type": "markdown",
   "metadata": {},
   "source": [
    "---"
   ]
  },
  {
   "cell_type": "markdown",
   "metadata": {},
   "source": [
    "## Conclusion\n",
    "\n",
    "I'm more active on Twitter in the mornings and if you want me to Retweet something, best to catch me on a Sunday.\n",
    "\n",
    "BSON-NumPy is a library that allows us to convert BSON documents into Numpy arrays. While I haven't run any benchmarks comparing it to PyMongo, I much prefer the direct conversion versus having to cobble together a `DataFrame` from returned documents.\n",
    "\n",
    "Looking forward to seeing what Mongo does with this library."
   ]
  },
  {
   "cell_type": "markdown",
   "metadata": {},
   "source": [
    "---"
   ]
  },
  {
   "cell_type": "markdown",
   "metadata": {},
   "source": [
    "#### Additional Resources\n",
    "\n",
    "* [BSON-NumPy Github](https://github.com/mongodb/bson-numpy)\n",
    "* [BSON-NumPy Documentation](http://bson-numpy.readthedocs.io/)\n",
    "* [BSON-NumPy episode](https://talkpython.fm/episodes/show/103/compiling-python-through-pyllvm-and-mongodb-for-data-scientists) of the [Talk Python to Me](https://talkpython.fm/) podcast"
   ]
  }
 ],
 "metadata": {
  "anaconda-cloud": {},
  "kernelspec": {
   "display_name": "Python 3",
   "language": "python",
   "name": "python3"
  },
  "language_info": {
   "codemirror_mode": {
    "name": "ipython",
    "version": 3
   },
   "file_extension": ".py",
   "mimetype": "text/x-python",
   "name": "python",
   "nbconvert_exporter": "python",
   "pygments_lexer": "ipython3",
   "version": "3.6.2"
  }
 },
 "nbformat": 4,
 "nbformat_minor": 2
}

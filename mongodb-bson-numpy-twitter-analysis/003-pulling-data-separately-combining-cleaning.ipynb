{
 "cells": [
  {
   "cell_type": "code",
   "execution_count": 1,
   "metadata": {
    "collapsed": true
   },
   "outputs": [],
   "source": [
    "# standard library\n",
    "from collections import namedtuple\n",
    "import os\n",
    "\n",
    "# pydata\n",
    "import pandas as pd\n",
    "import matplotlib.pyplot as plt\n",
    "import seaborn as sns\n",
    "%matplotlib inline\n",
    "\n",
    "# bson-numpy libraries\n",
    "import numpy as np\n",
    "from bson import CodecOptions\n",
    "from bson.raw_bson import RawBSONDocument\n",
    "from pymongo import MongoClient\n",
    "import bsonnumpy\n",
    "\n",
    "# other libraries\n",
    "import maya"
   ]
  },
  {
   "cell_type": "code",
   "execution_count": 2,
   "metadata": {
    "collapsed": true
   },
   "outputs": [],
   "source": [
    "# get mongodb params (using configparser)\n",
    "mlab_uri = os.environ['MLAB_URI']\n",
    "mlab_collection = os.environ['MLAB_COLLECTION']"
   ]
  },
  {
   "cell_type": "code",
   "execution_count": 3,
   "metadata": {
    "collapsed": true
   },
   "outputs": [],
   "source": [
    "codec_options=CodecOptions(document_class=RawBSONDocument)\n",
    "client = MongoClient(mlab_uri)\n",
    "db = client.get_default_database()\n",
    "collection = db.get_collection(\n",
    "    mlab_collection,\n",
    "    codec_options=codec_options\n",
    ")"
   ]
  },
  {
   "cell_type": "markdown",
   "metadata": {},
   "source": [
    "---"
   ]
  },
  {
   "cell_type": "markdown",
   "metadata": {},
   "source": [
    "## Get original and retweeted separately"
   ]
  },
  {
   "cell_type": "markdown",
   "metadata": {},
   "source": [
    "### Original"
   ]
  },
  {
   "cell_type": "code",
   "execution_count": 37,
   "metadata": {
    "collapsed": true
   },
   "outputs": [],
   "source": [
    "# we only pull the fields defined here\n",
    "dtype_original = np.dtype(\n",
    "    [\n",
    "        ('full_text', 'S400'),\n",
    "        ('created_at', 'S64'),\n",
    "    ]\n",
    ")"
   ]
  },
  {
   "cell_type": "code",
   "execution_count": 38,
   "metadata": {
    "collapsed": true
   },
   "outputs": [],
   "source": [
    "ndarray_original = bsonnumpy.sequence_to_ndarray(\n",
    "    (doc.raw for doc in collection.find({\"retweeted_status\": {\"$exists\": False}})), \n",
    "    dtype_original, \n",
    "    collection.count(),\n",
    ")"
   ]
  },
  {
   "cell_type": "code",
   "execution_count": 39,
   "metadata": {},
   "outputs": [
    {
     "name": "stdout",
     "output_type": "stream",
     "text": [
      "[ (b'Still. API keys in ipython notebooks! Yikes', b'Sat Dec 16 21:23:32 +0000 2017')\n",
      " (b'Fixing up a project I worked on in April 2016. Good job me for documenting sorta well', b'Sat Dec 16 21:22:47 +0000 2017')\n",
      " (b'https://t.co/6Ubtx6S1O8\\n#bookmark', b'Sat Dec 16 20:45:00 +0000 2017')\n",
      " ...,\n",
      " (b'Starting up a new public account.', b'Wed Dec 26 18:49:53 +0000 2012')\n",
      " (b'Was also logging to AWS CloudWatch. Best practices sorta', b'Sat Dec 16 21:45:38 +0000 2017')\n",
      " (b'Got my local dev environment all set up. @droneio builds are also passing. Can finally start working on the business logic! #dockercompose #devops', b'Sun Dec 17 01:06:06 +0000 2017')]\n"
     ]
    }
   ],
   "source": [
    "print(ndarray_original)"
   ]
  },
  {
   "cell_type": "code",
   "execution_count": 40,
   "metadata": {
    "collapsed": true
   },
   "outputs": [],
   "source": [
    "tweets_original = pd.DataFrame(ndarray_original)"
   ]
  },
  {
   "cell_type": "code",
   "execution_count": 48,
   "metadata": {
    "collapsed": true
   },
   "outputs": [],
   "source": [
    "tweets_original['full_text'] = tweets_original['full_text'].str.decode('utf-8')\n",
    "tweets_original['created_at'] = tweets_original['created_at'].str.decode('utf-8')"
   ]
  },
  {
   "cell_type": "code",
   "execution_count": 49,
   "metadata": {},
   "outputs": [
    {
     "data": {
      "text/html": [
       "<div>\n",
       "<style scoped>\n",
       "    .dataframe tbody tr th:only-of-type {\n",
       "        vertical-align: middle;\n",
       "    }\n",
       "\n",
       "    .dataframe tbody tr th {\n",
       "        vertical-align: top;\n",
       "    }\n",
       "\n",
       "    .dataframe thead th {\n",
       "        text-align: right;\n",
       "    }\n",
       "</style>\n",
       "<table border=\"1\" class=\"dataframe\">\n",
       "  <thead>\n",
       "    <tr style=\"text-align: right;\">\n",
       "      <th></th>\n",
       "      <th>full_text</th>\n",
       "      <th>created_at</th>\n",
       "    </tr>\n",
       "  </thead>\n",
       "  <tbody>\n",
       "    <tr>\n",
       "      <th>0</th>\n",
       "      <td>Still. API keys in ipython notebooks! Yikes</td>\n",
       "      <td>Sat Dec 16 21:23:32 +0000 2017</td>\n",
       "    </tr>\n",
       "    <tr>\n",
       "      <th>1</th>\n",
       "      <td>Fixing up a project I worked on in April 2016....</td>\n",
       "      <td>Sat Dec 16 21:22:47 +0000 2017</td>\n",
       "    </tr>\n",
       "    <tr>\n",
       "      <th>2</th>\n",
       "      <td>https://t.co/6Ubtx6S1O8\\n#bookmark</td>\n",
       "      <td>Sat Dec 16 20:45:00 +0000 2017</td>\n",
       "    </tr>\n",
       "    <tr>\n",
       "      <th>3</th>\n",
       "      <td>VSCode November release \\nhttps://t.co/U4nzPLE8QI</td>\n",
       "      <td>Sat Dec 16 20:23:18 +0000 2017</td>\n",
       "    </tr>\n",
       "    <tr>\n",
       "      <th>4</th>\n",
       "      <td>@TooManyNickLees It does for this project I'm ...</td>\n",
       "      <td>Sat Dec 16 20:08:26 +0000 2017</td>\n",
       "    </tr>\n",
       "  </tbody>\n",
       "</table>\n",
       "</div>"
      ],
      "text/plain": [
       "                                           full_text  \\\n",
       "0        Still. API keys in ipython notebooks! Yikes   \n",
       "1  Fixing up a project I worked on in April 2016....   \n",
       "2                 https://t.co/6Ubtx6S1O8\\n#bookmark   \n",
       "3  VSCode November release \\nhttps://t.co/U4nzPLE8QI   \n",
       "4  @TooManyNickLees It does for this project I'm ...   \n",
       "\n",
       "                       created_at  \n",
       "0  Sat Dec 16 21:23:32 +0000 2017  \n",
       "1  Sat Dec 16 21:22:47 +0000 2017  \n",
       "2  Sat Dec 16 20:45:00 +0000 2017  \n",
       "3  Sat Dec 16 20:23:18 +0000 2017  \n",
       "4  Sat Dec 16 20:08:26 +0000 2017  "
      ]
     },
     "execution_count": 49,
     "metadata": {},
     "output_type": "execute_result"
    }
   ],
   "source": [
    "tweets_original.head()"
   ]
  },
  {
   "cell_type": "markdown",
   "metadata": {},
   "source": [
    "---"
   ]
  },
  {
   "cell_type": "markdown",
   "metadata": {},
   "source": [
    "### Retweeted"
   ]
  },
  {
   "cell_type": "code",
   "execution_count": 42,
   "metadata": {
    "collapsed": true
   },
   "outputs": [],
   "source": [
    "# we only pull the fields defined here\n",
    "dtype_rt = np.dtype(\n",
    "    [\n",
    "        ('retweeted_status', np.dtype([('full_text', 'S400')])),\n",
    "        ('created_at', 'S64'),\n",
    "    ]\n",
    ")"
   ]
  },
  {
   "cell_type": "code",
   "execution_count": 43,
   "metadata": {
    "collapsed": true
   },
   "outputs": [],
   "source": [
    "ndarray_rt = bsonnumpy.sequence_to_ndarray(\n",
    "    (doc.raw for doc in collection.find({\"retweeted_status\": {\"$exists\": True}})), \n",
    "    dtype_rt, \n",
    "    collection.count(),\n",
    ")"
   ]
  },
  {
   "cell_type": "code",
   "execution_count": 44,
   "metadata": {
    "collapsed": true
   },
   "outputs": [],
   "source": [
    "tweets_rt = pd.DataFrame(ndarray_rt)"
   ]
  },
  {
   "cell_type": "code",
   "execution_count": 46,
   "metadata": {
    "collapsed": true
   },
   "outputs": [],
   "source": [
    "tweets_rt['full_text'] = tweets_rt['retweeted_status'].map(lambda value: value[0].decode('utf-8'))\n",
    "tweets_rt['created_at'] = tweets_rt['created_at'].str.decode('utf-8')"
   ]
  },
  {
   "cell_type": "code",
   "execution_count": 47,
   "metadata": {},
   "outputs": [
    {
     "data": {
      "text/html": [
       "<div>\n",
       "<style scoped>\n",
       "    .dataframe tbody tr th:only-of-type {\n",
       "        vertical-align: middle;\n",
       "    }\n",
       "\n",
       "    .dataframe tbody tr th {\n",
       "        vertical-align: top;\n",
       "    }\n",
       "\n",
       "    .dataframe thead th {\n",
       "        text-align: right;\n",
       "    }\n",
       "</style>\n",
       "<table border=\"1\" class=\"dataframe\">\n",
       "  <thead>\n",
       "    <tr style=\"text-align: right;\">\n",
       "      <th></th>\n",
       "      <th>retweeted_status</th>\n",
       "      <th>created_at</th>\n",
       "      <th>full_text</th>\n",
       "    </tr>\n",
       "  </thead>\n",
       "  <tbody>\n",
       "    <tr>\n",
       "      <th>0</th>\n",
       "      <td>(b'A list of things that might be useful when ...</td>\n",
       "      <td>Sat Dec 16 20:29:52 +0000 2017</td>\n",
       "      <td>A list of things that might be useful when ans...</td>\n",
       "    </tr>\n",
       "    <tr>\n",
       "      <th>1</th>\n",
       "      <td>(b'OUT: import pdb; pdb.set_trace()\\nIN: break...</td>\n",
       "      <td>Sat Dec 16 20:08:52 +0000 2017</td>\n",
       "      <td>OUT: import pdb; pdb.set_trace()\\nIN: breakpoi...</td>\n",
       "    </tr>\n",
       "    <tr>\n",
       "      <th>2</th>\n",
       "      <td>(b'Great news, Guido has pronounced dicts to r...</td>\n",
       "      <td>Sat Dec 16 16:46:55 +0000 2017</td>\n",
       "      <td>Great news, Guido has pronounced dicts to reta...</td>\n",
       "    </tr>\n",
       "    <tr>\n",
       "      <th>3</th>\n",
       "      <td>(b'First ever PyCon happening in Pakistan http...</td>\n",
       "      <td>Sat Dec 16 13:46:57 +0000 2017</td>\n",
       "      <td>First ever PyCon happening in Pakistan https:/...</td>\n",
       "    </tr>\n",
       "    <tr>\n",
       "      <th>4</th>\n",
       "      <td>(b'#python news:  \\xf0\\x9f\\x98\\x80 @gvanrossum...</td>\n",
       "      <td>Sat Dec 16 05:14:45 +0000 2017</td>\n",
       "      <td>#python news:  😀 @gvanrossum just pronounced t...</td>\n",
       "    </tr>\n",
       "  </tbody>\n",
       "</table>\n",
       "</div>"
      ],
      "text/plain": [
       "                                    retweeted_status  \\\n",
       "0  (b'A list of things that might be useful when ...   \n",
       "1  (b'OUT: import pdb; pdb.set_trace()\\nIN: break...   \n",
       "2  (b'Great news, Guido has pronounced dicts to r...   \n",
       "3  (b'First ever PyCon happening in Pakistan http...   \n",
       "4  (b'#python news:  \\xf0\\x9f\\x98\\x80 @gvanrossum...   \n",
       "\n",
       "                       created_at  \\\n",
       "0  Sat Dec 16 20:29:52 +0000 2017   \n",
       "1  Sat Dec 16 20:08:52 +0000 2017   \n",
       "2  Sat Dec 16 16:46:55 +0000 2017   \n",
       "3  Sat Dec 16 13:46:57 +0000 2017   \n",
       "4  Sat Dec 16 05:14:45 +0000 2017   \n",
       "\n",
       "                                           full_text  \n",
       "0  A list of things that might be useful when ans...  \n",
       "1  OUT: import pdb; pdb.set_trace()\\nIN: breakpoi...  \n",
       "2  Great news, Guido has pronounced dicts to reta...  \n",
       "3  First ever PyCon happening in Pakistan https:/...  \n",
       "4  #python news:  😀 @gvanrossum just pronounced t...  "
      ]
     },
     "execution_count": 47,
     "metadata": {},
     "output_type": "execute_result"
    }
   ],
   "source": [
    "tweets_rt.head()"
   ]
  },
  {
   "cell_type": "markdown",
   "metadata": {},
   "source": [
    "---"
   ]
  },
  {
   "cell_type": "markdown",
   "metadata": {},
   "source": [
    "## Combine Together"
   ]
  },
  {
   "cell_type": "code",
   "execution_count": 50,
   "metadata": {},
   "outputs": [
    {
     "data": {
      "text/plain": [
       "2569"
      ]
     },
     "execution_count": 50,
     "metadata": {},
     "output_type": "execute_result"
    }
   ],
   "source": [
    "len(tweets_original) + len(tweets_rt)"
   ]
  },
  {
   "cell_type": "code",
   "execution_count": 61,
   "metadata": {
    "collapsed": true
   },
   "outputs": [],
   "source": [
    "tweets = pd.concat([tweets_rt, tweets_original])"
   ]
  },
  {
   "cell_type": "code",
   "execution_count": 62,
   "metadata": {},
   "outputs": [
    {
     "data": {
      "text/plain": [
       "2569"
      ]
     },
     "execution_count": 62,
     "metadata": {},
     "output_type": "execute_result"
    }
   ],
   "source": [
    "len(tweets)"
   ]
  },
  {
   "cell_type": "code",
   "execution_count": 63,
   "metadata": {
    "collapsed": true
   },
   "outputs": [],
   "source": [
    "tweets['retweeted'] = tweets['retweeted_status'].notna()\n",
    "tweets = tweets.drop(columns=['retweeted_status'])"
   ]
  },
  {
   "cell_type": "code",
   "execution_count": 64,
   "metadata": {},
   "outputs": [
    {
     "data": {
      "text/plain": [
       "False    1571\n",
       "True      998\n",
       "Name: retweeted, dtype: int64"
      ]
     },
     "execution_count": 64,
     "metadata": {},
     "output_type": "execute_result"
    }
   ],
   "source": [
    "tweets.retweeted.value_counts()"
   ]
  },
  {
   "cell_type": "code",
   "execution_count": 65,
   "metadata": {},
   "outputs": [
    {
     "data": {
      "text/html": [
       "<div>\n",
       "<style scoped>\n",
       "    .dataframe tbody tr th:only-of-type {\n",
       "        vertical-align: middle;\n",
       "    }\n",
       "\n",
       "    .dataframe tbody tr th {\n",
       "        vertical-align: top;\n",
       "    }\n",
       "\n",
       "    .dataframe thead th {\n",
       "        text-align: right;\n",
       "    }\n",
       "</style>\n",
       "<table border=\"1\" class=\"dataframe\">\n",
       "  <thead>\n",
       "    <tr style=\"text-align: right;\">\n",
       "      <th></th>\n",
       "      <th>created_at</th>\n",
       "      <th>full_text</th>\n",
       "      <th>retweeted</th>\n",
       "    </tr>\n",
       "  </thead>\n",
       "  <tbody>\n",
       "    <tr>\n",
       "      <th>count</th>\n",
       "      <td>2569</td>\n",
       "      <td>2569</td>\n",
       "      <td>2569</td>\n",
       "    </tr>\n",
       "    <tr>\n",
       "      <th>unique</th>\n",
       "      <td>2569</td>\n",
       "      <td>2562</td>\n",
       "      <td>2</td>\n",
       "    </tr>\n",
       "    <tr>\n",
       "      <th>top</th>\n",
       "      <td>Fri May 26 05:03:19 +0000 2017</td>\n",
       "      <td>Git branching done right with Gitflow &amp;amp; im...</td>\n",
       "      <td>False</td>\n",
       "    </tr>\n",
       "    <tr>\n",
       "      <th>freq</th>\n",
       "      <td>1</td>\n",
       "      <td>2</td>\n",
       "      <td>1571</td>\n",
       "    </tr>\n",
       "  </tbody>\n",
       "</table>\n",
       "</div>"
      ],
      "text/plain": [
       "                            created_at  \\\n",
       "count                             2569   \n",
       "unique                            2569   \n",
       "top     Fri May 26 05:03:19 +0000 2017   \n",
       "freq                                 1   \n",
       "\n",
       "                                                full_text retweeted  \n",
       "count                                                2569      2569  \n",
       "unique                                               2562         2  \n",
       "top     Git branching done right with Gitflow &amp; im...     False  \n",
       "freq                                                    2      1571  "
      ]
     },
     "execution_count": 65,
     "metadata": {},
     "output_type": "execute_result"
    }
   ],
   "source": [
    "tweets.describe(include='all')"
   ]
  },
  {
   "cell_type": "markdown",
   "metadata": {},
   "source": [
    "---"
   ]
  },
  {
   "cell_type": "markdown",
   "metadata": {
    "collapsed": true
   },
   "source": [
    "## Add additional information\n",
    "\n",
    "* Parse datetime and convert to correct timezone\n",
    "* Add `chars` field"
   ]
  },
  {
   "cell_type": "code",
   "execution_count": 66,
   "metadata": {
    "collapsed": true
   },
   "outputs": [],
   "source": [
    "# create helper function (which we can probably move into sivtools)\n",
    "\n",
    "ConvertTZArgs = namedtuple(\"ConvertTZArgs\", [\"dt_col\", \"to_timezone\"])\n",
    "\n",
    "def convert_timezone(row, *args):\n",
    "    # get datetime\n",
    "    dt_col = args[0].dt_col\n",
    "    to_timezone = args[0].to_timezone\n",
    "    dt = row[dt_col]\n",
    "    \n",
    "    dt = maya.parse(dt).datetime(to_timezone=to_timezone)\n",
    "    return dt"
   ]
  },
  {
   "cell_type": "code",
   "execution_count": 67,
   "metadata": {
    "collapsed": true
   },
   "outputs": [],
   "source": [
    "tweets['created_at'] = tweets.apply(\n",
    "    convert_timezone,\n",
    "    axis=1, \n",
    "    args=(ConvertTZArgs('created_at', 'US/Central'),)\n",
    ")"
   ]
  },
  {
   "cell_type": "code",
   "execution_count": 68,
   "metadata": {
    "collapsed": true
   },
   "outputs": [],
   "source": [
    "tweets['chars'] = tweets['full_text'].str.len()"
   ]
  },
  {
   "cell_type": "code",
   "execution_count": 69,
   "metadata": {},
   "outputs": [
    {
     "data": {
      "text/html": [
       "<div>\n",
       "<style scoped>\n",
       "    .dataframe tbody tr th:only-of-type {\n",
       "        vertical-align: middle;\n",
       "    }\n",
       "\n",
       "    .dataframe tbody tr th {\n",
       "        vertical-align: top;\n",
       "    }\n",
       "\n",
       "    .dataframe thead th {\n",
       "        text-align: right;\n",
       "    }\n",
       "</style>\n",
       "<table border=\"1\" class=\"dataframe\">\n",
       "  <thead>\n",
       "    <tr style=\"text-align: right;\">\n",
       "      <th></th>\n",
       "      <th>created_at</th>\n",
       "      <th>full_text</th>\n",
       "      <th>retweeted</th>\n",
       "      <th>chars</th>\n",
       "    </tr>\n",
       "  </thead>\n",
       "  <tbody>\n",
       "    <tr>\n",
       "      <th>0</th>\n",
       "      <td>2017-12-16 14:29:52-06:00</td>\n",
       "      <td>A list of things that might be useful when ans...</td>\n",
       "      <td>True</td>\n",
       "      <td>166</td>\n",
       "    </tr>\n",
       "    <tr>\n",
       "      <th>1</th>\n",
       "      <td>2017-12-16 14:08:52-06:00</td>\n",
       "      <td>OUT: import pdb; pdb.set_trace()\\nIN: breakpoi...</td>\n",
       "      <td>True</td>\n",
       "      <td>90</td>\n",
       "    </tr>\n",
       "    <tr>\n",
       "      <th>2</th>\n",
       "      <td>2017-12-16 10:46:55-06:00</td>\n",
       "      <td>Great news, Guido has pronounced dicts to reta...</td>\n",
       "      <td>True</td>\n",
       "      <td>246</td>\n",
       "    </tr>\n",
       "    <tr>\n",
       "      <th>3</th>\n",
       "      <td>2017-12-16 07:46:57-06:00</td>\n",
       "      <td>First ever PyCon happening in Pakistan https:/...</td>\n",
       "      <td>True</td>\n",
       "      <td>62</td>\n",
       "    </tr>\n",
       "    <tr>\n",
       "      <th>4</th>\n",
       "      <td>2017-12-15 23:14:45-06:00</td>\n",
       "      <td>#python news:  😀 @gvanrossum just pronounced t...</td>\n",
       "      <td>True</td>\n",
       "      <td>137</td>\n",
       "    </tr>\n",
       "  </tbody>\n",
       "</table>\n",
       "</div>"
      ],
      "text/plain": [
       "                 created_at  \\\n",
       "0 2017-12-16 14:29:52-06:00   \n",
       "1 2017-12-16 14:08:52-06:00   \n",
       "2 2017-12-16 10:46:55-06:00   \n",
       "3 2017-12-16 07:46:57-06:00   \n",
       "4 2017-12-15 23:14:45-06:00   \n",
       "\n",
       "                                           full_text  retweeted  chars  \n",
       "0  A list of things that might be useful when ans...       True    166  \n",
       "1  OUT: import pdb; pdb.set_trace()\\nIN: breakpoi...       True     90  \n",
       "2  Great news, Guido has pronounced dicts to reta...       True    246  \n",
       "3  First ever PyCon happening in Pakistan https:/...       True     62  \n",
       "4  #python news:  😀 @gvanrossum just pronounced t...       True    137  "
      ]
     },
     "execution_count": 69,
     "metadata": {},
     "output_type": "execute_result"
    }
   ],
   "source": [
    "tweets.head()"
   ]
  },
  {
   "cell_type": "code",
   "execution_count": 70,
   "metadata": {},
   "outputs": [
    {
     "data": {
      "text/html": [
       "<div>\n",
       "<style scoped>\n",
       "    .dataframe tbody tr th:only-of-type {\n",
       "        vertical-align: middle;\n",
       "    }\n",
       "\n",
       "    .dataframe tbody tr th {\n",
       "        vertical-align: top;\n",
       "    }\n",
       "\n",
       "    .dataframe thead th {\n",
       "        text-align: right;\n",
       "    }\n",
       "</style>\n",
       "<table border=\"1\" class=\"dataframe\">\n",
       "  <thead>\n",
       "    <tr style=\"text-align: right;\">\n",
       "      <th></th>\n",
       "      <th>created_at</th>\n",
       "      <th>full_text</th>\n",
       "      <th>retweeted</th>\n",
       "      <th>chars</th>\n",
       "    </tr>\n",
       "  </thead>\n",
       "  <tbody>\n",
       "    <tr>\n",
       "      <th>1566</th>\n",
       "      <td>2012-12-27 07:39:59-06:00</td>\n",
       "      <td>Fifth anniversary of #Benazir's assassination....</td>\n",
       "      <td>False</td>\n",
       "      <td>67</td>\n",
       "    </tr>\n",
       "    <tr>\n",
       "      <th>1567</th>\n",
       "      <td>2012-12-26 13:30:56-06:00</td>\n",
       "      <td>3D printers are bringing us into the age of St...</td>\n",
       "      <td>False</td>\n",
       "      <td>114</td>\n",
       "    </tr>\n",
       "    <tr>\n",
       "      <th>1568</th>\n",
       "      <td>2012-12-26 12:49:53-06:00</td>\n",
       "      <td>Starting up a new public account.</td>\n",
       "      <td>False</td>\n",
       "      <td>33</td>\n",
       "    </tr>\n",
       "    <tr>\n",
       "      <th>1569</th>\n",
       "      <td>2017-12-16 15:45:38-06:00</td>\n",
       "      <td>Was also logging to AWS CloudWatch. Best pract...</td>\n",
       "      <td>False</td>\n",
       "      <td>56</td>\n",
       "    </tr>\n",
       "    <tr>\n",
       "      <th>1570</th>\n",
       "      <td>2017-12-16 19:06:06-06:00</td>\n",
       "      <td>Got my local dev environment all set up. @dron...</td>\n",
       "      <td>False</td>\n",
       "      <td>146</td>\n",
       "    </tr>\n",
       "  </tbody>\n",
       "</table>\n",
       "</div>"
      ],
      "text/plain": [
       "                    created_at  \\\n",
       "1566 2012-12-27 07:39:59-06:00   \n",
       "1567 2012-12-26 13:30:56-06:00   \n",
       "1568 2012-12-26 12:49:53-06:00   \n",
       "1569 2017-12-16 15:45:38-06:00   \n",
       "1570 2017-12-16 19:06:06-06:00   \n",
       "\n",
       "                                              full_text  retweeted  chars  \n",
       "1566  Fifth anniversary of #Benazir's assassination....      False     67  \n",
       "1567  3D printers are bringing us into the age of St...      False    114  \n",
       "1568                  Starting up a new public account.      False     33  \n",
       "1569  Was also logging to AWS CloudWatch. Best pract...      False     56  \n",
       "1570  Got my local dev environment all set up. @dron...      False    146  "
      ]
     },
     "execution_count": 70,
     "metadata": {},
     "output_type": "execute_result"
    }
   ],
   "source": [
    "tweets.tail()"
   ]
  },
  {
   "cell_type": "code",
   "execution_count": 71,
   "metadata": {
    "scrolled": true
   },
   "outputs": [
    {
     "data": {
      "text/html": [
       "<div>\n",
       "<style scoped>\n",
       "    .dataframe tbody tr th:only-of-type {\n",
       "        vertical-align: middle;\n",
       "    }\n",
       "\n",
       "    .dataframe tbody tr th {\n",
       "        vertical-align: top;\n",
       "    }\n",
       "\n",
       "    .dataframe thead th {\n",
       "        text-align: right;\n",
       "    }\n",
       "</style>\n",
       "<table border=\"1\" class=\"dataframe\">\n",
       "  <thead>\n",
       "    <tr style=\"text-align: right;\">\n",
       "      <th></th>\n",
       "      <th>created_at</th>\n",
       "      <th>full_text</th>\n",
       "      <th>retweeted</th>\n",
       "      <th>chars</th>\n",
       "    </tr>\n",
       "  </thead>\n",
       "  <tbody>\n",
       "    <tr>\n",
       "      <th>count</th>\n",
       "      <td>2569</td>\n",
       "      <td>2569</td>\n",
       "      <td>2569</td>\n",
       "      <td>2569.000000</td>\n",
       "    </tr>\n",
       "    <tr>\n",
       "      <th>unique</th>\n",
       "      <td>2569</td>\n",
       "      <td>2562</td>\n",
       "      <td>2</td>\n",
       "      <td>NaN</td>\n",
       "    </tr>\n",
       "    <tr>\n",
       "      <th>top</th>\n",
       "      <td>2016-12-10 00:05:07-06:00</td>\n",
       "      <td>Git branching done right with Gitflow &amp;amp; im...</td>\n",
       "      <td>False</td>\n",
       "      <td>NaN</td>\n",
       "    </tr>\n",
       "    <tr>\n",
       "      <th>freq</th>\n",
       "      <td>1</td>\n",
       "      <td>2</td>\n",
       "      <td>1571</td>\n",
       "      <td>NaN</td>\n",
       "    </tr>\n",
       "    <tr>\n",
       "      <th>mean</th>\n",
       "      <td>NaN</td>\n",
       "      <td>NaN</td>\n",
       "      <td>NaN</td>\n",
       "      <td>100.330479</td>\n",
       "    </tr>\n",
       "    <tr>\n",
       "      <th>std</th>\n",
       "      <td>NaN</td>\n",
       "      <td>NaN</td>\n",
       "      <td>NaN</td>\n",
       "      <td>36.794551</td>\n",
       "    </tr>\n",
       "    <tr>\n",
       "      <th>min</th>\n",
       "      <td>NaN</td>\n",
       "      <td>NaN</td>\n",
       "      <td>NaN</td>\n",
       "      <td>2.000000</td>\n",
       "    </tr>\n",
       "    <tr>\n",
       "      <th>25%</th>\n",
       "      <td>NaN</td>\n",
       "      <td>NaN</td>\n",
       "      <td>NaN</td>\n",
       "      <td>74.000000</td>\n",
       "    </tr>\n",
       "    <tr>\n",
       "      <th>50%</th>\n",
       "      <td>NaN</td>\n",
       "      <td>NaN</td>\n",
       "      <td>NaN</td>\n",
       "      <td>101.000000</td>\n",
       "    </tr>\n",
       "    <tr>\n",
       "      <th>75%</th>\n",
       "      <td>NaN</td>\n",
       "      <td>NaN</td>\n",
       "      <td>NaN</td>\n",
       "      <td>130.000000</td>\n",
       "    </tr>\n",
       "    <tr>\n",
       "      <th>max</th>\n",
       "      <td>NaN</td>\n",
       "      <td>NaN</td>\n",
       "      <td>NaN</td>\n",
       "      <td>299.000000</td>\n",
       "    </tr>\n",
       "  </tbody>\n",
       "</table>\n",
       "</div>"
      ],
      "text/plain": [
       "                       created_at  \\\n",
       "count                        2569   \n",
       "unique                       2569   \n",
       "top     2016-12-10 00:05:07-06:00   \n",
       "freq                            1   \n",
       "mean                          NaN   \n",
       "std                           NaN   \n",
       "min                           NaN   \n",
       "25%                           NaN   \n",
       "50%                           NaN   \n",
       "75%                           NaN   \n",
       "max                           NaN   \n",
       "\n",
       "                                                full_text retweeted  \\\n",
       "count                                                2569      2569   \n",
       "unique                                               2562         2   \n",
       "top     Git branching done right with Gitflow &amp; im...     False   \n",
       "freq                                                    2      1571   \n",
       "mean                                                  NaN       NaN   \n",
       "std                                                   NaN       NaN   \n",
       "min                                                   NaN       NaN   \n",
       "25%                                                   NaN       NaN   \n",
       "50%                                                   NaN       NaN   \n",
       "75%                                                   NaN       NaN   \n",
       "max                                                   NaN       NaN   \n",
       "\n",
       "              chars  \n",
       "count   2569.000000  \n",
       "unique          NaN  \n",
       "top             NaN  \n",
       "freq            NaN  \n",
       "mean     100.330479  \n",
       "std       36.794551  \n",
       "min        2.000000  \n",
       "25%       74.000000  \n",
       "50%      101.000000  \n",
       "75%      130.000000  \n",
       "max      299.000000  "
      ]
     },
     "execution_count": 71,
     "metadata": {},
     "output_type": "execute_result"
    }
   ],
   "source": [
    "tweets.describe(include='all')"
   ]
  },
  {
   "cell_type": "markdown",
   "metadata": {},
   "source": [
    "---"
   ]
  },
  {
   "cell_type": "markdown",
   "metadata": {},
   "source": [
    "## Output cleaned data set"
   ]
  },
  {
   "cell_type": "code",
   "execution_count": 72,
   "metadata": {
    "collapsed": true
   },
   "outputs": [],
   "source": [
    "tweets.to_pickle('cleaned_tweets_data.pkl')"
   ]
  },
  {
   "cell_type": "code",
   "execution_count": null,
   "metadata": {
    "collapsed": true
   },
   "outputs": [],
   "source": []
  }
 ],
 "metadata": {
  "anaconda-cloud": {},
  "kernelspec": {
   "display_name": "Python 3",
   "language": "python",
   "name": "python3"
  },
  "language_info": {
   "codemirror_mode": {
    "name": "ipython",
    "version": 3
   },
   "file_extension": ".py",
   "mimetype": "text/x-python",
   "name": "python",
   "nbconvert_exporter": "python",
   "pygments_lexer": "ipython3",
   "version": "3.6.2"
  }
 },
 "nbformat": 4,
 "nbformat_minor": 2
}

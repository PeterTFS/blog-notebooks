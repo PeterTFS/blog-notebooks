{
 "cells": [
  {
   "cell_type": "code",
   "execution_count": 53,
   "metadata": {
    "collapsed": true
   },
   "outputs": [],
   "source": [
    "# standard library\n",
    "from collections import namedtuple\n",
    "import os\n",
    "\n",
    "# pydata\n",
    "import pandas as pd\n",
    "import matplotlib.pyplot as plt\n",
    "import seaborn as sns\n",
    "%matplotlib inline\n",
    "\n",
    "# bson-numpy libraries\n",
    "import numpy as np\n",
    "from bson import CodecOptions\n",
    "from bson.raw_bson import RawBSONDocument\n",
    "from pymongo import MongoClient\n",
    "import bsonnumpy\n",
    "\n",
    "# other libraries\n",
    "import maya"
   ]
  },
  {
   "cell_type": "code",
   "execution_count": 54,
   "metadata": {
    "collapsed": true
   },
   "outputs": [],
   "source": [
    "# get mongodb params (using configparser)\n",
    "mlab_uri = os.environ['MLAB_URI']\n",
    "mlab_collection = os.environ['MLAB_COLLECTION']"
   ]
  },
  {
   "cell_type": "code",
   "execution_count": 55,
   "metadata": {
    "collapsed": true
   },
   "outputs": [],
   "source": [
    "codec_options=CodecOptions(document_class=RawBSONDocument)\n",
    "client = MongoClient(mlab_uri)\n",
    "db = client.get_default_database()\n",
    "collection = db.get_collection(\n",
    "    mlab_collection,\n",
    "    codec_options=codec_options\n",
    ")"
   ]
  },
  {
   "cell_type": "code",
   "execution_count": 56,
   "metadata": {
    "collapsed": true
   },
   "outputs": [],
   "source": [
    "# https://docs.scipy.org/doc/numpy/reference/generated/numpy.dtype.html#numpy.dtype"
   ]
  },
  {
   "cell_type": "code",
   "execution_count": 57,
   "metadata": {
    "collapsed": true
   },
   "outputs": [],
   "source": [
    "# we only pull the fields defined here\n",
    "dtype = np.dtype(\n",
    "    [\n",
    "        ('full_text', 'S400'),\n",
    "        ('created_at', 'S64'),\n",
    "        ('retweeted', 'b'),\n",
    "    ]\n",
    ")"
   ]
  },
  {
   "cell_type": "code",
   "execution_count": 64,
   "metadata": {
    "collapsed": true
   },
   "outputs": [],
   "source": [
    "ndarray = bsonnumpy.sequence_to_ndarray(\n",
    "    (doc.raw for doc in collection.find()), \n",
    "    dtype, \n",
    "    collection.count(),\n",
    ")"
   ]
  },
  {
   "cell_type": "code",
   "execution_count": 65,
   "metadata": {},
   "outputs": [
    {
     "name": "stdout",
     "output_type": "stream",
     "text": [
      "[ (b'Still. API keys in ipython notebooks! Yikes', b'Sat Dec 16 21:23:32 +0000 2017', 0)\n",
      " (b'Fixing up a project I worked on in April 2016. Good job me for documenting sorta well', b'Sat Dec 16 21:22:47 +0000 2017', 0)\n",
      " (b'https://t.co/6Ubtx6S1O8\\n#bookmark', b'Sat Dec 16 20:45:00 +0000 2017', 0)\n",
      " ...,\n",
      " (b'Was also logging to AWS CloudWatch. Best practices sorta', b'Sat Dec 16 21:45:38 +0000 2017', 0)\n",
      " (b'Got my local dev environment all set up. @droneio builds are also passing. Can finally start working on the business logic! #dockercompose #devops', b'Sun Dec 17 01:06:06 +0000 2017', 0)\n",
      " (b'RT @crossphd: Pushpin \\xe2\\x80\\x94 An Open Source Library That Turns REST APIs into Realtime APIs - An intro to evented APIs and how to build them wit\\xe2\\x80\\xa6', b'Sun Dec 17 06:33:45 +0000 2017', 1)]\n"
     ]
    }
   ],
   "source": [
    "print(ndarray)"
   ]
  },
  {
   "cell_type": "code",
   "execution_count": 66,
   "metadata": {
    "collapsed": true
   },
   "outputs": [],
   "source": [
    "tweets = pd.DataFrame(ndarray)"
   ]
  },
  {
   "cell_type": "code",
   "execution_count": 67,
   "metadata": {},
   "outputs": [
    {
     "data": {
      "text/html": [
       "<div>\n",
       "<style>\n",
       "    .dataframe thead tr:only-child th {\n",
       "        text-align: right;\n",
       "    }\n",
       "\n",
       "    .dataframe thead th {\n",
       "        text-align: left;\n",
       "    }\n",
       "\n",
       "    .dataframe tbody tr th {\n",
       "        vertical-align: top;\n",
       "    }\n",
       "</style>\n",
       "<table border=\"1\" class=\"dataframe\">\n",
       "  <thead>\n",
       "    <tr style=\"text-align: right;\">\n",
       "      <th></th>\n",
       "      <th>full_text</th>\n",
       "      <th>created_at</th>\n",
       "      <th>retweeted</th>\n",
       "    </tr>\n",
       "  </thead>\n",
       "  <tbody>\n",
       "    <tr>\n",
       "      <th>0</th>\n",
       "      <td>b'Still. API keys in ipython notebooks! Yikes'</td>\n",
       "      <td>b'Sat Dec 16 21:23:32 +0000 2017'</td>\n",
       "      <td>0</td>\n",
       "    </tr>\n",
       "    <tr>\n",
       "      <th>1</th>\n",
       "      <td>b'Fixing up a project I worked on in April 201...</td>\n",
       "      <td>b'Sat Dec 16 21:22:47 +0000 2017'</td>\n",
       "      <td>0</td>\n",
       "    </tr>\n",
       "    <tr>\n",
       "      <th>2</th>\n",
       "      <td>b'https://t.co/6Ubtx6S1O8\\n#bookmark'</td>\n",
       "      <td>b'Sat Dec 16 20:45:00 +0000 2017'</td>\n",
       "      <td>0</td>\n",
       "    </tr>\n",
       "    <tr>\n",
       "      <th>3</th>\n",
       "      <td>b'RT @dbader_org: A list of things that might ...</td>\n",
       "      <td>b'Sat Dec 16 20:29:52 +0000 2017'</td>\n",
       "      <td>1</td>\n",
       "    </tr>\n",
       "    <tr>\n",
       "      <th>4</th>\n",
       "      <td>b'VSCode November release \\nhttps://t.co/U4nzP...</td>\n",
       "      <td>b'Sat Dec 16 20:23:18 +0000 2017'</td>\n",
       "      <td>0</td>\n",
       "    </tr>\n",
       "  </tbody>\n",
       "</table>\n",
       "</div>"
      ],
      "text/plain": [
       "                                           full_text  \\\n",
       "0     b'Still. API keys in ipython notebooks! Yikes'   \n",
       "1  b'Fixing up a project I worked on in April 201...   \n",
       "2              b'https://t.co/6Ubtx6S1O8\\n#bookmark'   \n",
       "3  b'RT @dbader_org: A list of things that might ...   \n",
       "4  b'VSCode November release \\nhttps://t.co/U4nzP...   \n",
       "\n",
       "                          created_at  retweeted  \n",
       "0  b'Sat Dec 16 21:23:32 +0000 2017'          0  \n",
       "1  b'Sat Dec 16 21:22:47 +0000 2017'          0  \n",
       "2  b'Sat Dec 16 20:45:00 +0000 2017'          0  \n",
       "3  b'Sat Dec 16 20:29:52 +0000 2017'          1  \n",
       "4  b'Sat Dec 16 20:23:18 +0000 2017'          0  "
      ]
     },
     "execution_count": 67,
     "metadata": {},
     "output_type": "execute_result"
    }
   ],
   "source": [
    "tweets.head()"
   ]
  },
  {
   "cell_type": "code",
   "execution_count": 68,
   "metadata": {},
   "outputs": [
    {
     "data": {
      "text/plain": [
       "0    1774\n",
       "1     795\n",
       "Name: retweeted, dtype: int64"
      ]
     },
     "execution_count": 68,
     "metadata": {},
     "output_type": "execute_result"
    }
   ],
   "source": [
    "tweets['retweeted'].value_counts()"
   ]
  },
  {
   "cell_type": "code",
   "execution_count": 69,
   "metadata": {},
   "outputs": [
    {
     "name": "stdout",
     "output_type": "stream",
     "text": [
      "<class 'pandas.core.frame.DataFrame'>\n",
      "RangeIndex: 2569 entries, 0 to 2568\n",
      "Data columns (total 3 columns):\n",
      "full_text     2569 non-null object\n",
      "created_at    2569 non-null object\n",
      "retweeted     2569 non-null int8\n",
      "dtypes: int8(1), object(2)\n",
      "memory usage: 42.7+ KB\n"
     ]
    }
   ],
   "source": [
    "tweets.info()"
   ]
  },
  {
   "cell_type": "markdown",
   "metadata": {
    "collapsed": true
   },
   "source": [
    "### Parse datetime and convert to correct timezone"
   ]
  },
  {
   "cell_type": "code",
   "execution_count": 70,
   "metadata": {
    "collapsed": true
   },
   "outputs": [],
   "source": [
    "# create helper function (which we can probably move into sivtools)\n",
    "\n",
    "ConvertTZArgs = namedtuple(\"ConvertTZArgs\", [\"dt_col\", \"to_timezone\"])\n",
    "\n",
    "def convert_timezone(row, *args):\n",
    "    # get datetime\n",
    "    dt_col = args[0].dt_col\n",
    "    to_timezone = args[0].to_timezone\n",
    "    dt = row[dt_col]\n",
    "    \n",
    "    # get in correct format\n",
    "    if isinstance(dt, bytes):\n",
    "        dt = dt.decode('utf-8')\n",
    "    \n",
    "    dt = maya.parse(dt).datetime(to_timezone=to_timezone)\n",
    "    return dt"
   ]
  },
  {
   "cell_type": "code",
   "execution_count": 71,
   "metadata": {
    "collapsed": true
   },
   "outputs": [],
   "source": [
    "tweets['created_at'] = tweets.apply(\n",
    "    convert_timezone,\n",
    "    axis=1, \n",
    "    args=(ConvertTZArgs('created_at', 'US/Central'),)\n",
    ")"
   ]
  },
  {
   "cell_type": "code",
   "execution_count": 72,
   "metadata": {
    "collapsed": true
   },
   "outputs": [],
   "source": [
    "tweets['full_text'] = tweets['full_text'].str.decode('utf-8')"
   ]
  },
  {
   "cell_type": "code",
   "execution_count": 73,
   "metadata": {
    "collapsed": true
   },
   "outputs": [],
   "source": [
    "tweets['chars'] = tweets['full_text'].str.len()"
   ]
  },
  {
   "cell_type": "code",
   "execution_count": 74,
   "metadata": {},
   "outputs": [
    {
     "data": {
      "text/html": [
       "<div>\n",
       "<style>\n",
       "    .dataframe thead tr:only-child th {\n",
       "        text-align: right;\n",
       "    }\n",
       "\n",
       "    .dataframe thead th {\n",
       "        text-align: left;\n",
       "    }\n",
       "\n",
       "    .dataframe tbody tr th {\n",
       "        vertical-align: top;\n",
       "    }\n",
       "</style>\n",
       "<table border=\"1\" class=\"dataframe\">\n",
       "  <thead>\n",
       "    <tr style=\"text-align: right;\">\n",
       "      <th></th>\n",
       "      <th>full_text</th>\n",
       "      <th>created_at</th>\n",
       "      <th>retweeted</th>\n",
       "      <th>chars</th>\n",
       "    </tr>\n",
       "  </thead>\n",
       "  <tbody>\n",
       "    <tr>\n",
       "      <th>0</th>\n",
       "      <td>Still. API keys in ipython notebooks! Yikes</td>\n",
       "      <td>2017-12-16 15:23:32-06:00</td>\n",
       "      <td>0</td>\n",
       "      <td>43</td>\n",
       "    </tr>\n",
       "    <tr>\n",
       "      <th>1</th>\n",
       "      <td>Fixing up a project I worked on in April 2016....</td>\n",
       "      <td>2017-12-16 15:22:47-06:00</td>\n",
       "      <td>0</td>\n",
       "      <td>85</td>\n",
       "    </tr>\n",
       "    <tr>\n",
       "      <th>2</th>\n",
       "      <td>https://t.co/6Ubtx6S1O8\\n#bookmark</td>\n",
       "      <td>2017-12-16 14:45:00-06:00</td>\n",
       "      <td>0</td>\n",
       "      <td>33</td>\n",
       "    </tr>\n",
       "    <tr>\n",
       "      <th>3</th>\n",
       "      <td>RT @dbader_org: A list of things that might be...</td>\n",
       "      <td>2017-12-16 14:29:52-06:00</td>\n",
       "      <td>1</td>\n",
       "      <td>140</td>\n",
       "    </tr>\n",
       "    <tr>\n",
       "      <th>4</th>\n",
       "      <td>VSCode November release \\nhttps://t.co/U4nzPLE8QI</td>\n",
       "      <td>2017-12-16 14:23:18-06:00</td>\n",
       "      <td>0</td>\n",
       "      <td>48</td>\n",
       "    </tr>\n",
       "  </tbody>\n",
       "</table>\n",
       "</div>"
      ],
      "text/plain": [
       "                                           full_text  \\\n",
       "0        Still. API keys in ipython notebooks! Yikes   \n",
       "1  Fixing up a project I worked on in April 2016....   \n",
       "2                 https://t.co/6Ubtx6S1O8\\n#bookmark   \n",
       "3  RT @dbader_org: A list of things that might be...   \n",
       "4  VSCode November release \\nhttps://t.co/U4nzPLE8QI   \n",
       "\n",
       "                 created_at  retweeted  chars  \n",
       "0 2017-12-16 15:23:32-06:00          0     43  \n",
       "1 2017-12-16 15:22:47-06:00          0     85  \n",
       "2 2017-12-16 14:45:00-06:00          0     33  \n",
       "3 2017-12-16 14:29:52-06:00          1    140  \n",
       "4 2017-12-16 14:23:18-06:00          0     48  "
      ]
     },
     "execution_count": 74,
     "metadata": {},
     "output_type": "execute_result"
    }
   ],
   "source": [
    "tweets.head()"
   ]
  },
  {
   "cell_type": "code",
   "execution_count": 75,
   "metadata": {},
   "outputs": [
    {
     "data": {
      "text/html": [
       "<div>\n",
       "<style>\n",
       "    .dataframe thead tr:only-child th {\n",
       "        text-align: right;\n",
       "    }\n",
       "\n",
       "    .dataframe thead th {\n",
       "        text-align: left;\n",
       "    }\n",
       "\n",
       "    .dataframe tbody tr th {\n",
       "        vertical-align: top;\n",
       "    }\n",
       "</style>\n",
       "<table border=\"1\" class=\"dataframe\">\n",
       "  <thead>\n",
       "    <tr style=\"text-align: right;\">\n",
       "      <th></th>\n",
       "      <th>full_text</th>\n",
       "      <th>created_at</th>\n",
       "      <th>retweeted</th>\n",
       "      <th>chars</th>\n",
       "    </tr>\n",
       "  </thead>\n",
       "  <tbody>\n",
       "    <tr>\n",
       "      <th>2564</th>\n",
       "      <td>3D printers are bringing us into the age of St...</td>\n",
       "      <td>2012-12-26 13:30:56-06:00</td>\n",
       "      <td>0</td>\n",
       "      <td>114</td>\n",
       "    </tr>\n",
       "    <tr>\n",
       "      <th>2565</th>\n",
       "      <td>Starting up a new public account.</td>\n",
       "      <td>2012-12-26 12:49:53-06:00</td>\n",
       "      <td>0</td>\n",
       "      <td>33</td>\n",
       "    </tr>\n",
       "    <tr>\n",
       "      <th>2566</th>\n",
       "      <td>Was also logging to AWS CloudWatch. Best pract...</td>\n",
       "      <td>2017-12-16 15:45:38-06:00</td>\n",
       "      <td>0</td>\n",
       "      <td>56</td>\n",
       "    </tr>\n",
       "    <tr>\n",
       "      <th>2567</th>\n",
       "      <td>Got my local dev environment all set up. @dron...</td>\n",
       "      <td>2017-12-16 19:06:06-06:00</td>\n",
       "      <td>0</td>\n",
       "      <td>146</td>\n",
       "    </tr>\n",
       "    <tr>\n",
       "      <th>2568</th>\n",
       "      <td>RT @crossphd: Pushpin — An Open Source Library...</td>\n",
       "      <td>2017-12-17 00:33:45-06:00</td>\n",
       "      <td>1</td>\n",
       "      <td>140</td>\n",
       "    </tr>\n",
       "  </tbody>\n",
       "</table>\n",
       "</div>"
      ],
      "text/plain": [
       "                                              full_text  \\\n",
       "2564  3D printers are bringing us into the age of St...   \n",
       "2565                  Starting up a new public account.   \n",
       "2566  Was also logging to AWS CloudWatch. Best pract...   \n",
       "2567  Got my local dev environment all set up. @dron...   \n",
       "2568  RT @crossphd: Pushpin — An Open Source Library...   \n",
       "\n",
       "                    created_at  retweeted  chars  \n",
       "2564 2012-12-26 13:30:56-06:00          0    114  \n",
       "2565 2012-12-26 12:49:53-06:00          0     33  \n",
       "2566 2017-12-16 15:45:38-06:00          0     56  \n",
       "2567 2017-12-16 19:06:06-06:00          0    146  \n",
       "2568 2017-12-17 00:33:45-06:00          1    140  "
      ]
     },
     "execution_count": 75,
     "metadata": {},
     "output_type": "execute_result"
    }
   ],
   "source": [
    "tweets.tail()"
   ]
  },
  {
   "cell_type": "code",
   "execution_count": 76,
   "metadata": {
    "scrolled": true
   },
   "outputs": [
    {
     "data": {
      "text/html": [
       "<div>\n",
       "<style>\n",
       "    .dataframe thead tr:only-child th {\n",
       "        text-align: right;\n",
       "    }\n",
       "\n",
       "    .dataframe thead th {\n",
       "        text-align: left;\n",
       "    }\n",
       "\n",
       "    .dataframe tbody tr th {\n",
       "        vertical-align: top;\n",
       "    }\n",
       "</style>\n",
       "<table border=\"1\" class=\"dataframe\">\n",
       "  <thead>\n",
       "    <tr style=\"text-align: right;\">\n",
       "      <th></th>\n",
       "      <th>full_text</th>\n",
       "      <th>created_at</th>\n",
       "      <th>retweeted</th>\n",
       "      <th>chars</th>\n",
       "    </tr>\n",
       "  </thead>\n",
       "  <tbody>\n",
       "    <tr>\n",
       "      <th>count</th>\n",
       "      <td>2569</td>\n",
       "      <td>2569</td>\n",
       "      <td>2569.000000</td>\n",
       "      <td>2569.000000</td>\n",
       "    </tr>\n",
       "    <tr>\n",
       "      <th>unique</th>\n",
       "      <td>2562</td>\n",
       "      <td>2569</td>\n",
       "      <td>NaN</td>\n",
       "      <td>NaN</td>\n",
       "    </tr>\n",
       "    <tr>\n",
       "      <th>top</th>\n",
       "      <td>RT @ThePracticalDev: Git branching done right ...</td>\n",
       "      <td>2016-12-10 00:05:07-06:00</td>\n",
       "      <td>NaN</td>\n",
       "      <td>NaN</td>\n",
       "    </tr>\n",
       "    <tr>\n",
       "      <th>freq</th>\n",
       "      <td>2</td>\n",
       "      <td>1</td>\n",
       "      <td>NaN</td>\n",
       "      <td>NaN</td>\n",
       "    </tr>\n",
       "    <tr>\n",
       "      <th>mean</th>\n",
       "      <td>NaN</td>\n",
       "      <td>NaN</td>\n",
       "      <td>0.309459</td>\n",
       "      <td>103.272480</td>\n",
       "    </tr>\n",
       "    <tr>\n",
       "      <th>std</th>\n",
       "      <td>NaN</td>\n",
       "      <td>NaN</td>\n",
       "      <td>0.462361</td>\n",
       "      <td>33.810651</td>\n",
       "    </tr>\n",
       "    <tr>\n",
       "      <th>min</th>\n",
       "      <td>NaN</td>\n",
       "      <td>NaN</td>\n",
       "      <td>0.000000</td>\n",
       "      <td>2.000000</td>\n",
       "    </tr>\n",
       "    <tr>\n",
       "      <th>25%</th>\n",
       "      <td>NaN</td>\n",
       "      <td>NaN</td>\n",
       "      <td>0.000000</td>\n",
       "      <td>79.000000</td>\n",
       "    </tr>\n",
       "    <tr>\n",
       "      <th>50%</th>\n",
       "      <td>NaN</td>\n",
       "      <td>NaN</td>\n",
       "      <td>0.000000</td>\n",
       "      <td>107.000000</td>\n",
       "    </tr>\n",
       "    <tr>\n",
       "      <th>75%</th>\n",
       "      <td>NaN</td>\n",
       "      <td>NaN</td>\n",
       "      <td>1.000000</td>\n",
       "      <td>135.000000</td>\n",
       "    </tr>\n",
       "    <tr>\n",
       "      <th>max</th>\n",
       "      <td>NaN</td>\n",
       "      <td>NaN</td>\n",
       "      <td>1.000000</td>\n",
       "      <td>231.000000</td>\n",
       "    </tr>\n",
       "  </tbody>\n",
       "</table>\n",
       "</div>"
      ],
      "text/plain": [
       "                                                full_text  \\\n",
       "count                                                2569   \n",
       "unique                                               2562   \n",
       "top     RT @ThePracticalDev: Git branching done right ...   \n",
       "freq                                                    2   \n",
       "mean                                                  NaN   \n",
       "std                                                   NaN   \n",
       "min                                                   NaN   \n",
       "25%                                                   NaN   \n",
       "50%                                                   NaN   \n",
       "75%                                                   NaN   \n",
       "max                                                   NaN   \n",
       "\n",
       "                       created_at    retweeted        chars  \n",
       "count                        2569  2569.000000  2569.000000  \n",
       "unique                       2569          NaN          NaN  \n",
       "top     2016-12-10 00:05:07-06:00          NaN          NaN  \n",
       "freq                            1          NaN          NaN  \n",
       "mean                          NaN     0.309459   103.272480  \n",
       "std                           NaN     0.462361    33.810651  \n",
       "min                           NaN     0.000000     2.000000  \n",
       "25%                           NaN     0.000000    79.000000  \n",
       "50%                           NaN     0.000000   107.000000  \n",
       "75%                           NaN     1.000000   135.000000  \n",
       "max                           NaN     1.000000   231.000000  "
      ]
     },
     "execution_count": 76,
     "metadata": {},
     "output_type": "execute_result"
    }
   ],
   "source": [
    "tweets.describe(include='all')"
   ]
  },
  {
   "cell_type": "markdown",
   "metadata": {},
   "source": [
    "---"
   ]
  },
  {
   "cell_type": "markdown",
   "metadata": {
    "collapsed": true
   },
   "source": [
    "## Investigating Number of Characters"
   ]
  },
  {
   "cell_type": "code",
   "execution_count": 77,
   "metadata": {},
   "outputs": [
    {
     "data": {
      "text/plain": [
       "<seaborn.axisgrid.FacetGrid at 0x11b79fc88>"
      ]
     },
     "execution_count": 77,
     "metadata": {},
     "output_type": "execute_result"
    },
    {
     "data": {
      "image/png": "[encoded data removed]",
      "text/plain": [
       "<matplotlib.figure.Figure at 0x11b5e0cf8>"
      ]
     },
     "metadata": {},
     "output_type": "display_data"
    }
   ],
   "source": [
    "g = sns.FacetGrid(\n",
    "    tweets,\n",
    "    col=\"retweeted\",\n",
    "    margin_titles=True,\n",
    "    size=6,\n",
    ")\n",
    "\n",
    "g.map(\n",
    "    plt.hist,\n",
    "    \"chars\",\n",
    "    bins=15,\n",
    "    color=\"steelblue\",\n",
    "    lw=0,\n",
    ")"
   ]
  },
  {
   "cell_type": "code",
   "execution_count": 78,
   "metadata": {},
   "outputs": [
    {
     "data": {
      "text/plain": [
       "count    1774.000000\n",
       "mean       96.342728\n",
       "std        35.101140\n",
       "min         2.000000\n",
       "25%        71.000000\n",
       "50%        98.000000\n",
       "75%       127.000000\n",
       "max       231.000000\n",
       "Name: chars, dtype: float64"
      ]
     },
     "execution_count": 78,
     "metadata": {},
     "output_type": "execute_result"
    }
   ],
   "source": [
    "tweets[tweets['retweeted'] == 0]['chars'].describe()"
   ]
  },
  {
   "cell_type": "code",
   "execution_count": 79,
   "metadata": {},
   "outputs": [
    {
     "data": {
      "text/plain": [
       "count    795.000000\n",
       "mean     118.735849\n",
       "std       24.480819\n",
       "min       34.000000\n",
       "25%      100.000000\n",
       "50%      127.000000\n",
       "75%      140.000000\n",
       "max      167.000000\n",
       "Name: chars, dtype: float64"
      ]
     },
     "execution_count": 79,
     "metadata": {},
     "output_type": "execute_result"
    }
   ],
   "source": [
    "tweets[tweets['retweeted'] == 1]['chars'].describe()"
   ]
  },
  {
   "cell_type": "markdown",
   "metadata": {},
   "source": [
    "#### Something weird is going on"
   ]
  },
  {
   "cell_type": "markdown",
   "metadata": {},
   "source": [
    "---"
   ]
  },
  {
   "cell_type": "markdown",
   "metadata": {
    "collapsed": true
   },
   "source": [
    "## Examining Time Between Posts"
   ]
  },
  {
   "cell_type": "code",
   "execution_count": 80,
   "metadata": {
    "collapsed": true
   },
   "outputs": [],
   "source": [
    "# creating function\n",
    "def time_between(times):\n",
    "    sorted_times = times.sort_values()\n",
    "    time_between = sorted_times - sorted_times.shift(1)\n",
    "    return time_between"
   ]
  },
  {
   "cell_type": "code",
   "execution_count": 81,
   "metadata": {
    "collapsed": true
   },
   "outputs": [],
   "source": [
    "def to_seconds(time):\n",
    "    return time / np.timedelta64(1, 's')"
   ]
  },
  {
   "cell_type": "markdown",
   "metadata": {},
   "source": [
    "### Examine time between non-RT posts"
   ]
  },
  {
   "cell_type": "code",
   "execution_count": 82,
   "metadata": {
    "collapsed": true
   },
   "outputs": [],
   "source": [
    "between_my_posts = time_between(tweets[tweets['retweeted'] == 0]['created_at'])"
   ]
  },
  {
   "cell_type": "code",
   "execution_count": 83,
   "metadata": {},
   "outputs": [
    {
     "data": {
      "text/plain": [
       "count                      1773\n",
       "mean     1 days 00:35:08.163000\n",
       "std      2 days 00:36:03.828529\n",
       "min             0 days 00:00:08\n",
       "25%             0 days 01:36:47\n",
       "50%             0 days 07:52:01\n",
       "75%             0 days 23:32:54\n",
       "max            26 days 03:23:07\n",
       "Name: created_at, dtype: object"
      ]
     },
     "execution_count": 83,
     "metadata": {},
     "output_type": "execute_result"
    }
   ],
   "source": [
    "between_my_posts.describe()"
   ]
  },
  {
   "cell_type": "code",
   "execution_count": 84,
   "metadata": {},
   "outputs": [
    {
     "data": {
      "text/plain": [
       "<matplotlib.axes._subplots.AxesSubplot at 0x1175b9358>"
      ]
     },
     "execution_count": 84,
     "metadata": {},
     "output_type": "execute_result"
    },
    {
     "data": {
      "image/png": "[encoded data removed]",
      "text/plain": [
       "<matplotlib.figure.Figure at 0x1173f3550>"
      ]
     },
     "metadata": {},
     "output_type": "display_data"
    }
   ],
   "source": [
    "to_seconds(between_my_posts).plot(\n",
    "    kind='hist',\n",
    "    range=(0, 100_000)\n",
    ")"
   ]
  },
  {
   "cell_type": "markdown",
   "metadata": {
    "collapsed": true
   },
   "source": [
    "### Examine time between all posts (including RTs)"
   ]
  },
  {
   "cell_type": "code",
   "execution_count": 85,
   "metadata": {
    "collapsed": true
   },
   "outputs": [],
   "source": [
    "between_all_posts = time_between(tweets['created_at'])"
   ]
  },
  {
   "cell_type": "code",
   "execution_count": 86,
   "metadata": {},
   "outputs": [
    {
     "data": {
      "text/plain": [
       "count                      2568\n",
       "mean     0 days 16:58:35.510903\n",
       "std      1 days 17:37:38.566048\n",
       "min             0 days 00:00:03\n",
       "25%      0 days 00:45:13.750000\n",
       "50%             0 days 03:12:55\n",
       "75%      0 days 14:01:24.250000\n",
       "max            26 days 03:23:07\n",
       "Name: created_at, dtype: object"
      ]
     },
     "execution_count": 86,
     "metadata": {},
     "output_type": "execute_result"
    }
   ],
   "source": [
    "between_all_posts.describe()"
   ]
  },
  {
   "cell_type": "code",
   "execution_count": 87,
   "metadata": {},
   "outputs": [
    {
     "data": {
      "text/plain": [
       "<matplotlib.axes._subplots.AxesSubplot at 0x11781f518>"
      ]
     },
     "execution_count": 87,
     "metadata": {},
     "output_type": "execute_result"
    },
    {
     "data": {
      "image/png": "[encoded data removed]",
      "text/plain": [
       "<matplotlib.figure.Figure at 0x1178aa4a8>"
      ]
     },
     "metadata": {},
     "output_type": "display_data"
    }
   ],
   "source": [
    "to_seconds(between_all_posts).plot(\n",
    "    kind='hist',\n",
    "    range=(0, 100_000)\n",
    ")"
   ]
  },
  {
   "cell_type": "markdown",
   "metadata": {
    "collapsed": true
   },
   "source": [
    "---"
   ]
  },
  {
   "cell_type": "markdown",
   "metadata": {},
   "source": [
    "# Draw Heatmap"
   ]
  },
  {
   "cell_type": "code",
   "execution_count": 88,
   "metadata": {
    "collapsed": true
   },
   "outputs": [],
   "source": [
    "tweets['hour'] = tweets['created_at'].dt.hour\n",
    "tweets['day_of_week'] = tweets['created_at'].dt.dayofweek"
   ]
  },
  {
   "cell_type": "code",
   "execution_count": 89,
   "metadata": {
    "collapsed": true
   },
   "outputs": [],
   "source": [
    "days_of_week = ['Sunday', 'Monday', 'Tuesday', 'Wednesday', 'Thursday', 'Friday', 'Saturday']"
   ]
  },
  {
   "cell_type": "markdown",
   "metadata": {},
   "source": [
    "### All Posts"
   ]
  },
  {
   "cell_type": "code",
   "execution_count": 90,
   "metadata": {
    "collapsed": true
   },
   "outputs": [],
   "source": [
    "tweets_timeline = tweets.groupby(by=['hour', 'day_of_week'])['full_text'].count()"
   ]
  },
  {
   "cell_type": "code",
   "execution_count": 91,
   "metadata": {},
   "outputs": [
    {
     "data": {
      "image/png": "[encoded data removed]",
      "text/plain": [
       "<matplotlib.figure.Figure at 0x117a5bb70>"
      ]
     },
     "metadata": {},
     "output_type": "display_data"
    }
   ],
   "source": [
    "plt.figure(figsize=(15, 15))\n",
    "ax = (sns.heatmap(tweets_timeline.unstack(),\n",
    "                  cmap='Blues',\n",
    "                  xticklabels=days_of_week))\n",
    "\n",
    "# Set the tick labels font (#figure out how to send it in as kwargs)\n",
    "for label in (ax.get_xticklabels() + ax.get_yticklabels()):\n",
    "#     label.set_fontname('Arial')\n",
    "    label.set_fontsize(20)"
   ]
  },
  {
   "cell_type": "markdown",
   "metadata": {},
   "source": [
    "### Original Posts (non-RTed)"
   ]
  },
  {
   "cell_type": "code",
   "execution_count": 92,
   "metadata": {
    "collapsed": true
   },
   "outputs": [],
   "source": [
    "tweets_timeline = tweets[tweets['retweeted'] == 0].groupby(by=['hour', 'day_of_week'])['full_text'].count()"
   ]
  },
  {
   "cell_type": "code",
   "execution_count": 93,
   "metadata": {},
   "outputs": [
    {
     "data": {
      "image/png": "[encoded data removed]",
      "text/plain": [
       "<matplotlib.figure.Figure at 0x1198d3588>"
      ]
     },
     "metadata": {},
     "output_type": "display_data"
    }
   ],
   "source": [
    "plt.figure(figsize=(15, 15))\n",
    "ax = (sns.heatmap(tweets_timeline.unstack(),\n",
    "                  cmap='Blues',\n",
    "                  xticklabels=days_of_week))\n",
    "\n",
    "# Set the tick labels font (#figure out how to send it in as kwargs)\n",
    "for label in (ax.get_xticklabels() + ax.get_yticklabels()):\n",
    "#     label.set_fontname('Arial')\n",
    "    label.set_fontsize(20)"
   ]
  },
  {
   "cell_type": "code",
   "execution_count": null,
   "metadata": {
    "collapsed": true
   },
   "outputs": [],
   "source": []
  }
 ],
 "metadata": {
  "anaconda-cloud": {},
  "kernelspec": {
   "display_name": "Python 3",
   "language": "python",
   "name": "python3"
  },
  "language_info": {
   "codemirror_mode": {
    "name": "ipython",
    "version": 3
   },
   "file_extension": ".py",
   "mimetype": "text/x-python",
   "name": "python",
   "nbconvert_exporter": "python",
   "pygments_lexer": "ipython3",
   "version": "3.6.2"
  }
 },
 "nbformat": 4,
 "nbformat_minor": 2
}
